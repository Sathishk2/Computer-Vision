{
  "nbformat": 4,
  "nbformat_minor": 0,
  "metadata": {
    "colab": {
      "provenance": [],
      "include_colab_link": true
    },
    "kernelspec": {
      "name": "python3",
      "display_name": "Python 3"
    },
    "accelerator": "GPU"
  },
  "cells": [
    {
      "cell_type": "markdown",
      "metadata": {
        "id": "view-in-github",
        "colab_type": "text"
      },
      "source": [
        "<a href=\"https://colab.research.google.com/github/Sathishk2/Computer-Vision/blob/main/NN_CIFAR.ipynb\" target=\"_parent\"><img src=\"https://colab.research.google.com/assets/colab-badge.svg\" alt=\"Open In Colab\"/></a>"
      ]
    },
    {
      "cell_type": "markdown",
      "source": [
        "#**CIFAR**"
      ],
      "metadata": {
        "id": "DNpZ2qauV4Ot"
      }
    },
    {
      "cell_type": "code",
      "source": [
        "import tensorflow as tf\n",
        "print(tf.__version__)\n",
        "\n",
        "#\n",
        "# Check if we got GPU\n",
        "#\n",
        "print(tf.test.gpu_device_name()) #Returns the name of a GPU device if available"
      ],
      "metadata": {
        "colab": {
          "base_uri": "https://localhost:8080/"
        },
        "id": "prmfavfkWRN-",
        "outputId": "66fe20d8-10a0-48b0-f268-7b5b520e8837"
      },
      "execution_count": null,
      "outputs": [
        {
          "output_type": "stream",
          "name": "stdout",
          "text": [
            "2.15.0\n",
            "\n"
          ]
        }
      ]
    },
    {
      "cell_type": "code",
      "source": [
        "#\n",
        "# Mount drive to connect to Google Drive (for accessing input data file)\n",
        "#\n",
        "from google.colab import drive\n",
        "drive.mount('/content/drive')"
      ],
      "metadata": {
        "colab": {
          "base_uri": "https://localhost:8080/"
        },
        "id": "j__-BPD3WUB0",
        "outputId": "62e8d264-653c-4eac-f8ff-f894fccd2dc8"
      },
      "execution_count": null,
      "outputs": [
        {
          "output_type": "stream",
          "name": "stdout",
          "text": [
            "Drive already mounted at /content/drive; to attempt to forcibly remount, call drive.mount(\"/content/drive\", force_remount=True).\n"
          ]
        }
      ]
    },
    {
      "cell_type": "markdown",
      "metadata": {
        "id": "LkjDN-1XZcdq"
      },
      "source": [
        "#Step 1 Prepare Data#"
      ]
    },
    {
      "cell_type": "code",
      "metadata": {
        "id": "01hvw0qOvJLm",
        "colab": {
          "base_uri": "https://localhost:8080/"
        },
        "outputId": "a4394f10-494d-40a4-b769-346dc0206e68"
      },
      "source": [
        "#\n",
        "# tf already contains copy of MNIST dataset\n",
        "# No need to download or import\n",
        "# No need to clean as it's already been cleaned\n",
        "# No need to split the data into training/testing as it's already been splitted too\n",
        "#\n",
        "import tensorflow as tf\n",
        "\n",
        "from tensorflow.keras.datasets import cifar10\n",
        "(X_train, y_train), (X_test, y_test) = cifar10.load_data() # 60,000 for training, 10,000 for testing\n",
        "                                                         # dataset already splitted internally to train/test\n",
        "print(X_train.shape, y_train.shape) #(50000, 32, 32, 3) (50000,)\n",
        "print(X_test.shape, y_test.shape) #(10000, 32, 32, 3) (10000,)\n",
        "\n",
        "#\n",
        "# Data Normalization\n",
        "#\n",
        "# (1) convert to Z Standardized Score (x-mean)/std\n",
        "# (2) Convert via min-max via div by max (i.e. values between 0 and 1)\n",
        "#\n",
        "X_train = X_train / 255.0 #normalise to between 0 and 1.0, original is 0 to 255 (i.e. 0 is black, 1 is white)\n",
        "X_test = X_test / 255.0\n",
        "\n",
        "#\n",
        "# One Hot Encoding - convert value to 1D vector\n",
        "#\n",
        "y_train = tf.keras.utils.to_categorical(y_train) # will auto detect and convert to 1D vector of 10d\n",
        "y_test = tf.keras.utils.to_categorical(y_test)\n",
        "print(y_train.shape)\n",
        "print(y_test.shape)"
      ],
      "execution_count": null,
      "outputs": [
        {
          "output_type": "stream",
          "name": "stdout",
          "text": [
            "(50000, 32, 32, 3) (50000, 1)\n",
            "(10000, 32, 32, 3) (10000, 1)\n",
            "(50000, 10)\n",
            "(10000, 10)\n"
          ]
        }
      ]
    },
    {
      "cell_type": "code",
      "metadata": {
        "id": "kWZvw4hIWkN5",
        "colab": {
          "base_uri": "https://localhost:8080/"
        },
        "outputId": "92a5a56c-f52a-4b78-8cf1-f36ef28746e8"
      },
      "source": [
        "print(X_train[1023,:])"
      ],
      "execution_count": null,
      "outputs": [
        {
          "output_type": "stream",
          "name": "stdout",
          "text": [
            "[[[0.65098039 0.65098039 0.65098039]\n",
            "  [0.75686275 0.75686275 0.75686275]\n",
            "  [0.75294118 0.74901961 0.75294118]\n",
            "  ...\n",
            "  [0.63137255 0.67058824 0.63529412]\n",
            "  [0.62745098 0.65882353 0.62745098]\n",
            "  [0.63529412 0.6627451  0.63529412]]\n",
            "\n",
            " [[0.67843137 0.67843137 0.67843137]\n",
            "  [0.71764706 0.71764706 0.71764706]\n",
            "  [0.68235294 0.68627451 0.68627451]\n",
            "  ...\n",
            "  [0.6627451  0.70588235 0.67843137]\n",
            "  [0.65490196 0.69411765 0.6627451 ]\n",
            "  [0.66666667 0.69411765 0.6627451 ]]\n",
            "\n",
            " [[0.72156863 0.72941176 0.7254902 ]\n",
            "  [0.78431373 0.79215686 0.78823529]\n",
            "  [0.74509804 0.75294118 0.75294118]\n",
            "  ...\n",
            "  [0.68235294 0.73333333 0.70588235]\n",
            "  [0.6745098  0.71372549 0.69019608]\n",
            "  [0.68235294 0.70980392 0.67843137]]\n",
            "\n",
            " ...\n",
            "\n",
            " [[0.98039216 0.98039216 0.98039216]\n",
            "  [0.97647059 0.97647059 0.97647059]\n",
            "  [0.98823529 0.99215686 0.99215686]\n",
            "  ...\n",
            "  [0.98431373 0.98431373 0.98431373]\n",
            "  [0.97647059 0.97647059 0.97647059]\n",
            "  [0.97647059 0.97647059 0.97647059]]\n",
            "\n",
            " [[1.         1.         1.        ]\n",
            "  [0.99215686 0.99215686 0.99215686]\n",
            "  [1.         1.         1.        ]\n",
            "  ...\n",
            "  [1.         1.         1.        ]\n",
            "  [0.99215686 0.99215686 0.99215686]\n",
            "  [0.99607843 0.99607843 0.99607843]]\n",
            "\n",
            " [[0.96862745 0.96862745 0.96862745]\n",
            "  [0.96078431 0.96078431 0.96078431]\n",
            "  [0.97254902 0.97254902 0.97254902]\n",
            "  ...\n",
            "  [0.96862745 0.96862745 0.96862745]\n",
            "  [0.95686275 0.95686275 0.95686275]\n",
            "  [0.96078431 0.96078431 0.96078431]]]\n"
          ]
        }
      ]
    },
    {
      "cell_type": "code",
      "source": [
        "print(X_train[1023,12])"
      ],
      "metadata": {
        "colab": {
          "base_uri": "https://localhost:8080/"
        },
        "id": "Dgn6gg5K5vRM",
        "outputId": "fdabe0b6-39e8-4b59-ad0c-163ed40c96ab"
      },
      "execution_count": null,
      "outputs": [
        {
          "output_type": "stream",
          "name": "stdout",
          "text": [
            "[[0.98823529 0.98823529 0.98823529]\n",
            " [0.98431373 0.98431373 0.98431373]\n",
            " [0.99215686 0.99215686 0.99215686]\n",
            " [0.98431373 0.98431373 0.98431373]\n",
            " [0.96078431 0.97647059 0.97254902]\n",
            " [0.5372549  0.59215686 0.57254902]\n",
            " [0.11372549 0.21568627 0.16078431]\n",
            " [0.06666667 0.20784314 0.10588235]\n",
            " [0.05490196 0.21960784 0.07843137]\n",
            " [0.0745098  0.22352941 0.05882353]\n",
            " [0.14509804 0.28627451 0.1254902 ]\n",
            " [0.21568627 0.3372549  0.19215686]\n",
            " [0.26666667 0.35294118 0.21960784]\n",
            " [0.32156863 0.37647059 0.24705882]\n",
            " [0.36862745 0.41960784 0.28627451]\n",
            " [0.43529412 0.48627451 0.35294118]\n",
            " [0.4745098  0.53333333 0.41960784]\n",
            " [0.34901961 0.42352941 0.27058824]\n",
            " [0.31372549 0.39607843 0.18431373]\n",
            " [0.37647059 0.43921569 0.21960784]\n",
            " [0.45098039 0.4745098  0.28627451]\n",
            " [0.46666667 0.45490196 0.30980392]\n",
            " [0.5372549  0.50588235 0.39607843]\n",
            " [0.65490196 0.64313725 0.56078431]\n",
            " [0.53333333 0.56078431 0.49411765]\n",
            " [0.12941176 0.19607843 0.13333333]\n",
            " [0.02352941 0.11372549 0.03921569]\n",
            " [0.10196078 0.19215686 0.12941176]\n",
            " [0.43529412 0.50588235 0.47058824]\n",
            " [0.80784314 0.86666667 0.83529412]\n",
            " [0.95294118 0.98431373 0.97254902]\n",
            " [0.97254902 0.98431373 0.98823529]]\n"
          ]
        }
      ]
    },
    {
      "cell_type": "code",
      "metadata": {
        "id": "wDI4BUAgZlxc",
        "colab": {
          "base_uri": "https://localhost:8080/"
        },
        "outputId": "7ce42e75-3899-4bb9-ccc5-65fc8db7e89e"
      },
      "source": [
        "print(y_train[1023,:])"
      ],
      "execution_count": null,
      "outputs": [
        {
          "output_type": "stream",
          "name": "stdout",
          "text": [
            "[0. 0. 0. 0. 0. 0. 1. 0. 0. 0.]\n"
          ]
        }
      ]
    },
    {
      "cell_type": "code",
      "metadata": {
        "id": "VrmaPSAxXDyi"
      },
      "source": [
        "import matplotlib.pyplot as plt\n",
        "def show_digit_in_training_set(index):\n",
        "  image = X_train[index] #aleady in 28x28\n",
        "  plt.imshow(image,cmap='gray')\n",
        "  plt.show()"
      ],
      "execution_count": null,
      "outputs": []
    },
    {
      "cell_type": "markdown",
      "metadata": {
        "id": "9LkJJtl0crqO"
      },
      "source": [
        "#Step 2 Build Model#"
      ]
    },
    {
      "cell_type": "code",
      "metadata": {
        "id": "dOVoiSS5dTkH"
      },
      "source": [
        "from tensorflow.keras.models import Sequential\n",
        "from tensorflow.keras.layers import Dense, Flatten\n",
        "\n",
        "#\n",
        "# Create Model for Classification\n",
        "#\n",
        "model = Sequential() #Define Dense NN model sequentially\n",
        "model.add(Flatten(input_shape=(32, 32, 3)))  # each pic input is 28x28, this will flatten into 728 internally, we don't have to worry\n",
        "model.add(Dense(128,activation='relu'))\n",
        "model.add(Dense(64,activation='relu'))\n",
        "model.add(Dense(32,activation='relu'))\n",
        "model.add(Dense(10,activation='softmax')) #10 classes, need softmax to output probabilities"
      ],
      "execution_count": null,
      "outputs": []
    },
    {
      "cell_type": "code",
      "source": [
        "model.summary()"
      ],
      "metadata": {
        "colab": {
          "base_uri": "https://localhost:8080/"
        },
        "id": "8526sqK1dR70",
        "outputId": "d314b37c-0da5-418d-cf6f-9f55db499bf9"
      },
      "execution_count": null,
      "outputs": [
        {
          "output_type": "stream",
          "name": "stdout",
          "text": [
            "Model: \"sequential_4\"\n",
            "_________________________________________________________________\n",
            " Layer (type)                Output Shape              Param #   \n",
            "=================================================================\n",
            " flatten_4 (Flatten)         (None, 3072)              0         \n",
            "                                                                 \n",
            " dense_13 (Dense)            (None, 128)               393344    \n",
            "                                                                 \n",
            " dense_14 (Dense)            (None, 64)                8256      \n",
            "                                                                 \n",
            " dense_15 (Dense)            (None, 32)                2080      \n",
            "                                                                 \n",
            " dense_16 (Dense)            (None, 10)                330       \n",
            "                                                                 \n",
            "=================================================================\n",
            "Total params: 404010 (1.54 MB)\n",
            "Trainable params: 404010 (1.54 MB)\n",
            "Non-trainable params: 0 (0.00 Byte)\n",
            "_________________________________________________________________\n"
          ]
        }
      ]
    },
    {
      "cell_type": "code",
      "metadata": {
        "id": "aU_QZ_iDd9JN"
      },
      "source": [
        "#\n",
        "# Specify optimizer, loss function and metrics during compilation\n",
        "#\n",
        "model.compile(loss='categorical_crossentropy',\n",
        "             optimizer='adam',\n",
        "             metrics=['accuracy']) # \"accuracy\" is for evaluating model performance"
      ],
      "execution_count": null,
      "outputs": []
    },
    {
      "cell_type": "markdown",
      "metadata": {
        "id": "tfpzqH5af5RH"
      },
      "source": [
        "#Step 3 Train Model#"
      ]
    },
    {
      "cell_type": "code",
      "metadata": {
        "id": "Ufclydy7f8Dg",
        "colab": {
          "base_uri": "https://localhost:8080/"
        },
        "outputId": "e4402dcd-0a7a-4cef-8d6b-a229befb65af"
      },
      "source": [
        "#\n",
        "# ** Training **\n",
        "#\n",
        "# epochs = number of iterations\n",
        "# batch_size = how much data to randomly used together in each training iteration, typical values 64, 128\n",
        "#\n",
        "history = model.fit(X_train, y_train, epochs=20, batch_size=128, validation_data=(X_test,y_test)) # NOTE: You can also validate on-the-fly\n",
        "                                                                                                  #       during training"
      ],
      "execution_count": null,
      "outputs": [
        {
          "output_type": "stream",
          "name": "stdout",
          "text": [
            "Epoch 1/20\n",
            "391/391 [==============================] - 6s 14ms/step - loss: 1.9225 - accuracy: 0.2966 - val_loss: 1.7319 - val_accuracy: 0.3790\n",
            "Epoch 2/20\n",
            "391/391 [==============================] - 6s 15ms/step - loss: 1.7141 - accuracy: 0.3860 - val_loss: 1.7435 - val_accuracy: 0.3801\n",
            "Epoch 3/20\n",
            "391/391 [==============================] - 5s 14ms/step - loss: 1.6352 - accuracy: 0.4142 - val_loss: 1.5979 - val_accuracy: 0.4326\n",
            "Epoch 4/20\n",
            "391/391 [==============================] - 5s 13ms/step - loss: 1.5886 - accuracy: 0.4324 - val_loss: 1.5561 - val_accuracy: 0.4453\n",
            "Epoch 5/20\n",
            "391/391 [==============================] - 6s 16ms/step - loss: 1.5438 - accuracy: 0.4472 - val_loss: 1.5156 - val_accuracy: 0.4597\n",
            "Epoch 6/20\n",
            "391/391 [==============================] - 5s 13ms/step - loss: 1.5180 - accuracy: 0.4565 - val_loss: 1.5631 - val_accuracy: 0.4420\n",
            "Epoch 7/20\n",
            "391/391 [==============================] - 7s 17ms/step - loss: 1.4910 - accuracy: 0.4689 - val_loss: 1.5096 - val_accuracy: 0.4610\n",
            "Epoch 8/20\n",
            "391/391 [==============================] - 6s 16ms/step - loss: 1.4711 - accuracy: 0.4776 - val_loss: 1.4932 - val_accuracy: 0.4674\n",
            "Epoch 9/20\n",
            "391/391 [==============================] - 5s 13ms/step - loss: 1.4568 - accuracy: 0.4775 - val_loss: 1.5330 - val_accuracy: 0.4517\n",
            "Epoch 10/20\n",
            "391/391 [==============================] - 6s 16ms/step - loss: 1.4371 - accuracy: 0.4870 - val_loss: 1.4670 - val_accuracy: 0.4808\n",
            "Epoch 11/20\n",
            "391/391 [==============================] - 5s 13ms/step - loss: 1.4213 - accuracy: 0.4944 - val_loss: 1.4801 - val_accuracy: 0.4770\n",
            "Epoch 12/20\n",
            "391/391 [==============================] - 5s 13ms/step - loss: 1.4038 - accuracy: 0.5003 - val_loss: 1.4418 - val_accuracy: 0.4911\n",
            "Epoch 13/20\n",
            "391/391 [==============================] - 6s 16ms/step - loss: 1.3945 - accuracy: 0.5040 - val_loss: 1.4528 - val_accuracy: 0.4824\n",
            "Epoch 14/20\n",
            "391/391 [==============================] - 5s 13ms/step - loss: 1.3862 - accuracy: 0.5081 - val_loss: 1.4532 - val_accuracy: 0.4787\n",
            "Epoch 15/20\n",
            "391/391 [==============================] - 8s 20ms/step - loss: 1.3735 - accuracy: 0.5109 - val_loss: 1.4316 - val_accuracy: 0.4912\n",
            "Epoch 16/20\n",
            "391/391 [==============================] - 5s 13ms/step - loss: 1.3654 - accuracy: 0.5137 - val_loss: 1.4337 - val_accuracy: 0.4916\n",
            "Epoch 17/20\n",
            "391/391 [==============================] - 5s 14ms/step - loss: 1.3536 - accuracy: 0.5195 - val_loss: 1.4585 - val_accuracy: 0.4794\n",
            "Epoch 18/20\n",
            "391/391 [==============================] - 6s 16ms/step - loss: 1.3403 - accuracy: 0.5249 - val_loss: 1.4075 - val_accuracy: 0.5001\n",
            "Epoch 19/20\n",
            "391/391 [==============================] - 5s 13ms/step - loss: 1.3304 - accuracy: 0.5280 - val_loss: 1.4526 - val_accuracy: 0.4876\n",
            "Epoch 20/20\n",
            "391/391 [==============================] - 7s 17ms/step - loss: 1.3217 - accuracy: 0.5304 - val_loss: 1.4306 - val_accuracy: 0.4936\n"
          ]
        }
      ]
    },
    {
      "cell_type": "code",
      "source": [
        "import matplotlib.pyplot as plt\n",
        "\n",
        "#\n",
        "# Visualization of Loss and Accuracy\n",
        "#\n",
        "loss = history.history['loss']\n",
        "val_loss = history.history['val_loss']\n",
        "acc = history.history['accuracy']\n",
        "val_acc = history.history['val_accuracy']\n",
        "epoch = range(len(loss))\n",
        "\n",
        "plt.plot(epoch, loss, label='train_loss')\n",
        "plt.plot(epoch, val_loss, label='val_loss')\n",
        "plt.xlabel('Epoch')\n",
        "plt.ylabel('Loss')\n",
        "plt.legend()\n",
        "plt.show()"
      ],
      "metadata": {
        "colab": {
          "base_uri": "https://localhost:8080/",
          "height": 449
        },
        "id": "1thvcJRhlElN",
        "outputId": "717292df-a79e-4037-de2f-1283316db9ad"
      },
      "execution_count": null,
      "outputs": [
        {
          "output_type": "display_data",
          "data": {
            "text/plain": [
              "<Figure size 640x480 with 1 Axes>"
            ],
            "image/png": "[encoded data removed]"
          },
          "metadata": {}
        }
      ]
    },
    {
      "cell_type": "code",
      "source": [
        "plt.plot(epoch, acc, label='train_acc')\n",
        "plt.plot(epoch, val_acc, label='val_acc')\n",
        "plt.xlabel('Epoch')\n",
        "plt.ylabel('Accuracy')\n",
        "plt.legend()\n",
        "plt.show()"
      ],
      "metadata": {
        "colab": {
          "base_uri": "https://localhost:8080/",
          "height": 449
        },
        "id": "_pp1cTaFlmCr",
        "outputId": "b4375db5-4ef4-413b-bf1d-f256c41c4190"
      },
      "execution_count": null,
      "outputs": [
        {
          "output_type": "display_data",
          "data": {
            "text/plain": [
              "<Figure size 640x480 with 1 Axes>"
            ],
            "image/png": "[encoded data removed]"
          },
          "metadata": {}
        }
      ]
    },
    {
      "cell_type": "markdown",
      "metadata": {
        "id": "-_SvNwV1hLP_"
      },
      "source": [
        "#Step 4 Evaluate Model#"
      ]
    },
    {
      "cell_type": "code",
      "metadata": {
        "id": "04bH7RfbhKKd",
        "colab": {
          "base_uri": "https://localhost:8080/"
        },
        "outputId": "91313b30-d91d-4da7-dcc3-100188e9161a"
      },
      "source": [
        "loss, accuracy = model.evaluate(X_test,y_test)"
      ],
      "execution_count": null,
      "outputs": [
        {
          "output_type": "stream",
          "name": "stdout",
          "text": [
            "313/313 [==============================] - 1s 3ms/step - loss: 1.4306 - accuracy: 0.4936\n"
          ]
        }
      ]
    },
    {
      "cell_type": "code",
      "metadata": {
        "id": "KoiJkW16hVGp",
        "colab": {
          "base_uri": "https://localhost:8080/"
        },
        "outputId": "ba0e554d-9718-417a-c427-25eedd74d82c"
      },
      "source": [
        "print('loss = ',loss)\n",
        "print('accuracy = ',accuracy)"
      ],
      "execution_count": null,
      "outputs": [
        {
          "output_type": "stream",
          "name": "stdout",
          "text": [
            "loss =  1.4305886030197144\n",
            "accuracy =  0.4936000108718872\n"
          ]
        }
      ]
    },
    {
      "cell_type": "code",
      "metadata": {
        "id": "nyEx2JYFhmHD"
      },
      "source": [
        "#\n",
        "# Save Model\n",
        "#\n",
        "model.save('/content/drive/MyDrive/app/CIFAR.h5') # you can transfer this for deployment"
      ],
      "execution_count": null,
      "outputs": []
    },
    {
      "cell_type": "markdown",
      "metadata": {
        "id": "6n1gYFBIziPx"
      },
      "source": [
        "#Step 5 Make Prediction#"
      ]
    },
    {
      "cell_type": "code",
      "metadata": {
        "id": "imi6_9LCzkh2",
        "colab": {
          "base_uri": "https://localhost:8080/"
        },
        "outputId": "c8af5443-c48a-4b9c-a5e8-0f8655882f23"
      },
      "source": [
        "from tensorflow.keras.models import load_model\n",
        "from tensorflow.keras.preprocessing.image import load_img\n",
        "from tensorflow.keras.preprocessing.image import img_to_array\n",
        "import numpy as np\n",
        "\n",
        "#\n",
        "# Load back the Model\n",
        "#\n",
        "loaded_model = load_model('/content/drive/MyDrive/app/CIFAR.h5') # we will use its predict method\n",
        "\n",
        "#\n",
        "# Load and Convert Image\n",
        "#\n",
        "# img_digit_one_sample.bmp can be found here:\n",
        "# https://drive.google.com/open?id=1RnqbnoRV5VWfEuWcDrtMXmB7tjZo41oK\n",
        "#\n",
        "# img_digit_four_sample.bmp can be found here:\n",
        "# https://drive.google.com/open?id=1zyNBk8zNEDpdYPy0KzxlGda5SAKXo7ds\n",
        "#\n",
        "# img_digit_eight_sample.bmp can be found here:\n",
        "# https://drive.google.com/file/d/1rfJO6wl6wDjmN7Dqu7ELr5FhGBW0Bswr\n",
        "#\n",
        "# For color, the default is color_mode='rgb'\n",
        "#\n",
        "#img = load_img(path=\"/content/drive/MyDrive/app/img_digit_one_sample.bmp\", color_mode = \"grayscale\", target_size=(28,28))\n",
        "#img = load_img(path=\"/content/drive/MyDrive/app/img_digit_four_sample.bmp\", color_mode = \"grayscale\", target_size=(28,28))\n",
        "img = load_img(path=\"/content/drive/MyDrive/app/Ship.jpeg\", color_mode = \"rgb\", target_size=(32,32))\n",
        "\n",
        "#\n",
        "# Pre-processing of input image data\n",
        "#\n",
        "imgArray = img_to_array(img) #convert to numpy array\n",
        "print (imgArray.shape) # (28,28,1)\n",
        "imgInput = imgArray/255.0 # normalization\n",
        "imgInput = imgInput.reshape(1,32,32,3) # make it into an array of arrays as predict method expects this\n",
        "print (imgInput.shape)\n",
        "\n",
        "#\n",
        "# Prediction\n",
        "#\n",
        "predictions = loaded_model.predict(imgInput) # Predict method expects an input format of array of arrays\n",
        "print(predictions)\n",
        "\n",
        "for i,x in enumerate(predictions[0]):\n",
        "  print(i, \"%.4f\" % x)\n",
        "\n",
        "predicted_class=np.argmax(predictions[0])\n",
        "print(\"The predicted image is\",object[predicted_class])\n",
        "\n",
        "object=['airplane', 'automobile', 'bird', 'cat', 'deer', 'dog', 'frog', 'horse', 'ship', 'truck']\n",
        "print(object[predicted_class])"
      ],
      "execution_count": null,
      "outputs": [
        {
          "output_type": "stream",
          "name": "stderr",
          "text": [
            "WARNING:tensorflow:5 out of the last 5 calls to <function Model.make_predict_function.<locals>.predict_function at 0x7b33c03fa290> triggered tf.function retracing. Tracing is expensive and the excessive number of tracings could be due to (1) creating @tf.function repeatedly in a loop, (2) passing tensors with different shapes, (3) passing Python objects instead of tensors. For (1), please define your @tf.function outside of the loop. For (2), @tf.function has reduce_retracing=True option that can avoid unnecessary retracing. For (3), please refer to https://www.tensorflow.org/guide/function#controlling_retracing and https://www.tensorflow.org/api_docs/python/tf/function for  more details.\n"
          ]
        },
        {
          "output_type": "stream",
          "name": "stdout",
          "text": [
            "(32, 32, 3)\n",
            "(1, 32, 32, 3)\n",
            "1/1 [==============================] - 0s 68ms/step\n",
            "[[7.91669786e-01 3.55027840e-02 2.16888245e-02 3.38758645e-03\n",
            "  1.34584168e-02 1.21014623e-03 2.61687761e-04 6.08903775e-03\n",
            "  1.19704045e-01 7.02763116e-03]]\n",
            "0 0.7917\n",
            "1 0.0355\n",
            "2 0.0217\n",
            "3 0.0034\n",
            "4 0.0135\n",
            "5 0.0012\n",
            "6 0.0003\n",
            "7 0.0061\n",
            "8 0.1197\n",
            "9 0.0070\n",
            "The predicted image is airplane\n",
            "airplane\n"
          ]
        }
      ]
    }
  ]
}