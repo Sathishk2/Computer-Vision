{
  "cells": [
    {
      "cell_type": "markdown",
      "metadata": {
        "id": "view-in-github",
        "colab_type": "text"
      },
      "source": [
        "<a href=\"https://colab.research.google.com/github/Sathishk2/Computer-Vision/blob/main/CNN_mnist.ipynb\" target=\"_parent\"><img src=\"https://colab.research.google.com/assets/colab-badge.svg\" alt=\"Open In Colab\"/></a>"
      ]
    },
    {
      "cell_type": "markdown",
      "metadata": {
        "id": "DNpZ2qauV4Ot"
      },
      "source": [
        "#**Ex: MNIST Handwritten Digits (CNN)**"
      ]
    },
    {
      "cell_type": "code",
      "execution_count": null,
      "metadata": {
        "colab": {
          "base_uri": "https://localhost:8080/"
        },
        "id": "prmfavfkWRN-",
        "outputId": "273c7bfb-eaa8-4e71-b721-bc10683481ed"
      },
      "outputs": [
        {
          "output_type": "stream",
          "name": "stdout",
          "text": [
            "2.15.0\n",
            "\n"
          ]
        }
      ],
      "source": [
        "import tensorflow as tf\n",
        "print(tf.__version__)\n",
        "\n",
        "#\n",
        "# Check if we got GPU\n",
        "#\n",
        "print(tf.test.gpu_device_name()) #Returns the name of a GPU device if available"
      ]
    },
    {
      "cell_type": "code",
      "execution_count": null,
      "metadata": {
        "colab": {
          "base_uri": "https://localhost:8080/"
        },
        "id": "j__-BPD3WUB0",
        "outputId": "f2966e76-0a8f-47f5-a372-d278f885994f"
      },
      "outputs": [
        {
          "output_type": "stream",
          "name": "stdout",
          "text": [
            "Mounted at /content/drive\n"
          ]
        }
      ],
      "source": [
        "#\n",
        "# Mount drive to connect to Google Drive (for accessing input data file)\n",
        "#\n",
        "from google.colab import drive\n",
        "drive.mount('/content/drive')"
      ]
    },
    {
      "cell_type": "markdown",
      "metadata": {
        "id": "LkjDN-1XZcdq"
      },
      "source": [
        "#Step 1 Prepare Data#"
      ]
    },
    {
      "cell_type": "code",
      "execution_count": null,
      "metadata": {
        "colab": {
          "base_uri": "https://localhost:8080/"
        },
        "id": "01hvw0qOvJLm",
        "outputId": "104a7a77-39f8-434d-a1aa-adada99ff78d"
      },
      "outputs": [
        {
          "output_type": "stream",
          "name": "stdout",
          "text": [
            "Downloading data from https://storage.googleapis.com/tensorflow/tf-keras-datasets/mnist.npz\n",
            "11490434/11490434 [==============================] - 0s 0us/step\n",
            "(60000, 28, 28) (60000,)\n",
            "(10000, 28, 28) (10000,)\n",
            "(60000, 10)\n",
            "(10000, 10)\n"
          ]
        }
      ],
      "source": [
        "#\n",
        "# tf already contains copy of MNIST dataset\n",
        "# No need to download or import\n",
        "# No need to clean as it's already been cleaned\n",
        "# No need to split the data into training/testing as it's already been splitted too\n",
        "#\n",
        "import tensorflow as tf\n",
        "from tensorflow.keras.datasets import mnist # this dataset has already been provided inside tf\n",
        "\n",
        "(X_train, y_train), (X_test, y_test) = mnist.load_data() # 60,000 for training, 10,000 for testing\n",
        "                                                         # dataset already splitted internally to train/test\n",
        "print(X_train.shape, y_train.shape) #(60000, 28, 28) (60000,)\n",
        "print(X_test.shape, y_test.shape) #(10000, 28, 28) (10000,)\n",
        "\n",
        "#\n",
        "# Data Normalization\n",
        "#\n",
        "# (1) convert to Z Standardized Score (x-mean)/std\n",
        "# (2) Convert via min-max via div by max (i.e. values between 0 and 1)\n",
        "#\n",
        "X_train = X_train / 255.0 #normalise to between 0 and 1.0, original is 0 to 255 (i.e. 0 is black, 1 is white)\n",
        "X_test = X_test / 255.0\n",
        "\n",
        "#\n",
        "# One Hot Encoding - convert value to 1D vector\n",
        "#\n",
        "y_train = tf.keras.utils.to_categorical(y_train) # will auto detect and convert to 1D vector of 10d\n",
        "y_test = tf.keras.utils.to_categorical(y_test)\n",
        "print(y_train.shape)\n",
        "print(y_test.shape)"
      ]
    },
    {
      "cell_type": "code",
      "execution_count": null,
      "metadata": {
        "id": "kWZvw4hIWkN5",
        "outputId": "c48a2490-cbee-4172-b760-026ce65cd4aa",
        "colab": {
          "base_uri": "https://localhost:8080/"
        }
      },
      "outputs": [
        {
          "output_type": "stream",
          "name": "stdout",
          "text": [
            "[[0.         0.         0.         0.         0.         0.\n",
            "  0.         0.         0.         0.         0.         0.\n",
            "  0.         0.         0.         0.         0.         0.\n",
            "  0.         0.         0.         0.         0.         0.\n",
            "  0.         0.         0.         0.        ]\n",
            " [0.         0.         0.         0.         0.         0.\n",
            "  0.         0.         0.         0.         0.         0.\n",
            "  0.         0.         0.         0.         0.         0.\n",
            "  0.         0.         0.         0.         0.         0.\n",
            "  0.         0.         0.         0.        ]\n",
            " [0.         0.         0.         0.         0.         0.\n",
            "  0.         0.         0.         0.         0.         0.\n",
            "  0.         0.         0.         0.         0.         0.\n",
            "  0.         0.         0.         0.         0.         0.\n",
            "  0.         0.         0.         0.        ]\n",
            " [0.         0.         0.         0.         0.         0.\n",
            "  0.         0.         0.         0.         0.         0.\n",
            "  0.         0.         0.         0.         0.         0.\n",
            "  0.         0.         0.         0.         0.         0.\n",
            "  0.         0.         0.         0.        ]\n",
            " [0.         0.         0.         0.         0.         0.\n",
            "  0.         0.         0.         0.         0.         0.\n",
            "  0.         0.         0.         0.         0.         0.\n",
            "  0.         0.         0.         0.         0.         0.\n",
            "  0.         0.         0.         0.        ]\n",
            " [0.         0.         0.         0.         0.         0.\n",
            "  0.         0.         0.         0.         0.         0.\n",
            "  0.         0.         0.         0.         0.         0.\n",
            "  0.         0.         0.         0.         0.         0.\n",
            "  0.         0.         0.         0.        ]\n",
            " [0.         0.         0.         0.         0.         0.\n",
            "  0.         0.         0.         0.         0.         0.\n",
            "  0.         0.         0.         0.         0.         0.\n",
            "  0.         0.         0.         0.         0.         0.\n",
            "  0.         0.         0.         0.        ]\n",
            " [0.         0.         0.         0.         0.         0.\n",
            "  0.         0.         0.         0.         0.         0.\n",
            "  0.         0.         0.         0.         0.         0.\n",
            "  0.         0.         0.         0.         0.         0.\n",
            "  0.         0.         0.         0.        ]\n",
            " [0.         0.         0.         0.         0.         0.\n",
            "  0.         0.         0.         0.         0.         0.\n",
            "  0.         0.         0.         0.         0.         0.\n",
            "  0.         0.         0.         0.         0.         0.\n",
            "  0.         0.         0.         0.        ]\n",
            " [0.         0.         0.         0.         0.         0.\n",
            "  0.         0.         0.         0.         0.         0.\n",
            "  0.         0.         0.         0.         0.         0.\n",
            "  0.         0.         0.07843137 0.11372549 0.         0.\n",
            "  0.         0.         0.         0.        ]\n",
            " [0.         0.         0.         0.02352941 0.61176471 0.25882353\n",
            "  0.         0.         0.         0.         0.         0.\n",
            "  0.         0.17254902 0.85490196 0.88627451 0.24705882 0.21568627\n",
            "  0.42745098 0.71372549 0.96078431 0.8745098  0.         0.\n",
            "  0.         0.         0.         0.        ]\n",
            " [0.         0.         0.         0.50588235 0.90588235 0.13333333\n",
            "  0.         0.         0.         0.         0.         0.16470588\n",
            "  0.60392157 0.96078431 0.99607843 0.99607843 0.99607843 0.99607843\n",
            "  0.90980392 0.97254902 0.94509804 0.36078431 0.         0.\n",
            "  0.         0.         0.         0.        ]\n",
            " [0.         0.         0.36862745 0.95294118 0.16862745 0.\n",
            "  0.         0.         0.         0.36470588 0.81960784 0.99607843\n",
            "  0.99607843 0.99607843 0.96470588 0.74901961 0.49803922 0.23529412\n",
            "  0.14509804 0.9254902  0.55294118 0.         0.         0.\n",
            "  0.         0.         0.         0.        ]\n",
            " [0.         0.         1.         0.34509804 0.         0.\n",
            "  0.         0.         0.         0.91764706 0.99607843 0.7372549\n",
            "  0.39607843 0.2        0.08235294 0.         0.         0.03529412\n",
            "  0.74901961 0.83137255 0.04313725 0.         0.         0.\n",
            "  0.         0.         0.         0.        ]\n",
            " [0.         0.         0.17647059 0.00392157 0.         0.\n",
            "  0.         0.         0.         0.24313725 0.15686275 0.00392157\n",
            "  0.         0.         0.         0.         0.00784314 0.68235294\n",
            "  0.88627451 0.16078431 0.         0.         0.         0.\n",
            "  0.         0.         0.         0.        ]\n",
            " [0.         0.         0.         0.         0.         0.\n",
            "  0.         0.         0.         0.         0.         0.\n",
            "  0.         0.         0.         0.         0.38823529 0.96078431\n",
            "  0.23921569 0.         0.         0.         0.         0.\n",
            "  0.         0.         0.         0.        ]\n",
            " [0.         0.         0.         0.         0.         0.\n",
            "  0.         0.         0.         0.         0.         0.\n",
            "  0.         0.         0.         0.3372549  0.97254902 0.44313725\n",
            "  0.         0.         0.         0.         0.         0.\n",
            "  0.         0.         0.         0.        ]\n",
            " [0.         0.         0.         0.         0.         0.\n",
            "  0.         0.         0.         0.         0.         0.\n",
            "  0.         0.         0.28235294 0.97647059 0.54509804 0.\n",
            "  0.         0.         0.         0.         0.         0.\n",
            "  0.         0.         0.         0.        ]\n",
            " [0.         0.         0.         0.         0.         0.\n",
            "  0.         0.         0.         0.         0.         0.\n",
            "  0.         0.21176471 0.91372549 0.76862745 0.05882353 0.\n",
            "  0.         0.         0.         0.         0.         0.\n",
            "  0.         0.         0.         0.        ]\n",
            " [0.         0.         0.         0.         0.         0.\n",
            "  0.         0.         0.         0.         0.         0.\n",
            "  0.02352941 0.88627451 0.81176471 0.07843137 0.         0.\n",
            "  0.         0.         0.         0.         0.         0.\n",
            "  0.         0.         0.         0.        ]\n",
            " [0.         0.         0.         0.         0.         0.\n",
            "  0.         0.         0.         0.         0.         0.04313725\n",
            "  0.65490196 0.91372549 0.28235294 0.         0.         0.\n",
            "  0.         0.         0.         0.         0.         0.\n",
            "  0.         0.         0.         0.        ]\n",
            " [0.         0.         0.         0.         0.         0.\n",
            "  0.         0.         0.         0.         0.         0.53333333\n",
            "  0.96862745 0.22745098 0.         0.         0.         0.\n",
            "  0.         0.         0.         0.         0.         0.\n",
            "  0.         0.         0.         0.        ]\n",
            " [0.         0.         0.         0.         0.         0.\n",
            "  0.         0.         0.         0.         0.12156863 0.95294118\n",
            "  0.42352941 0.         0.         0.         0.         0.\n",
            "  0.         0.         0.         0.         0.         0.\n",
            "  0.         0.         0.         0.        ]\n",
            " [0.         0.         0.         0.         0.         0.\n",
            "  0.         0.         0.         0.         0.54117647 0.6627451\n",
            "  0.00784314 0.         0.         0.         0.         0.\n",
            "  0.         0.         0.         0.         0.         0.\n",
            "  0.         0.         0.         0.        ]\n",
            " [0.         0.         0.         0.         0.         0.\n",
            "  0.         0.         0.         0.         0.09411765 0.06666667\n",
            "  0.         0.         0.         0.         0.         0.\n",
            "  0.         0.         0.         0.         0.         0.\n",
            "  0.         0.         0.         0.        ]\n",
            " [0.         0.         0.         0.         0.         0.\n",
            "  0.         0.         0.         0.         0.         0.\n",
            "  0.         0.         0.         0.         0.         0.\n",
            "  0.         0.         0.         0.         0.         0.\n",
            "  0.         0.         0.         0.        ]\n",
            " [0.         0.         0.         0.         0.         0.\n",
            "  0.         0.         0.         0.         0.         0.\n",
            "  0.         0.         0.         0.         0.         0.\n",
            "  0.         0.         0.         0.         0.         0.\n",
            "  0.         0.         0.         0.        ]\n",
            " [0.         0.         0.         0.         0.         0.\n",
            "  0.         0.         0.         0.         0.         0.\n",
            "  0.         0.         0.         0.         0.         0.\n",
            "  0.         0.         0.         0.         0.         0.\n",
            "  0.         0.         0.         0.        ]]\n"
          ]
        }
      ],
      "source": [
        "print(X_train[1023,:])"
      ]
    },
    {
      "cell_type": "code",
      "source": [
        "print(X_train[1023,12])"
      ],
      "metadata": {
        "colab": {
          "base_uri": "https://localhost:8080/"
        },
        "id": "KoTypWc29Wo1",
        "outputId": "d7af7ce3-7a46-4163-8955-67e55472a80c"
      },
      "execution_count": null,
      "outputs": [
        {
          "output_type": "stream",
          "name": "stdout",
          "text": [
            "[0.         0.         0.36862745 0.95294118 0.16862745 0.\n",
            " 0.         0.         0.         0.36470588 0.81960784 0.99607843\n",
            " 0.99607843 0.99607843 0.96470588 0.74901961 0.49803922 0.23529412\n",
            " 0.14509804 0.9254902  0.55294118 0.         0.         0.\n",
            " 0.         0.         0.         0.        ]\n"
          ]
        }
      ]
    },
    {
      "cell_type": "code",
      "execution_count": null,
      "metadata": {
        "colab": {
          "base_uri": "https://localhost:8080/"
        },
        "id": "wDI4BUAgZlxc",
        "outputId": "cdc018e5-05f2-449f-d284-bc7a37cc0b5d"
      },
      "outputs": [
        {
          "output_type": "stream",
          "name": "stdout",
          "text": [
            "[0. 0. 0. 0. 0. 0. 0. 1. 0. 0.]\n"
          ]
        }
      ],
      "source": [
        "print(y_train[1023,:])"
      ]
    },
    {
      "cell_type": "code",
      "execution_count": null,
      "metadata": {
        "id": "VrmaPSAxXDyi"
      },
      "outputs": [],
      "source": [
        "import matplotlib.pyplot as plt\n",
        "def show_digit_in_training_set(index):\n",
        "  image = X_train[index] #aleady in 28x28\n",
        "  plt.imshow(image,cmap='gray')\n",
        "  plt.show()"
      ]
    },
    {
      "cell_type": "code",
      "execution_count": null,
      "metadata": {
        "colab": {
          "base_uri": "https://localhost:8080/",
          "height": 430
        },
        "id": "b2VpVQ-9YHZQ",
        "outputId": "9f612a2b-891e-4b4d-d260-4dd021b4e6e1"
      },
      "outputs": [
        {
          "output_type": "display_data",
          "data": {
            "text/plain": [
              "<Figure size 640x480 with 1 Axes>"
            ],
            "image/png": "[encoded data removed]"
          },
          "metadata": {}
        }
      ],
      "source": [
        "show_digit_in_training_set(1023)"
      ]
    },
    {
      "cell_type": "markdown",
      "metadata": {
        "id": "9LkJJtl0crqO"
      },
      "source": [
        "#Step 2 Build Model#"
      ]
    },
    {
      "cell_type": "code",
      "execution_count": null,
      "metadata": {
        "id": "dOVoiSS5dTkH"
      },
      "outputs": [],
      "source": [
        "from tensorflow.keras.models import Sequential\n",
        "from tensorflow.keras.layers import Conv2D, MaxPooling2D, Flatten, Dense\n",
        "\n",
        "#\n",
        "# Create Model for Classification\n",
        "#\n",
        "model = Sequential()\n",
        "model.add(Conv2D(16, (3,3), activation='relu', input_shape=(28,28,1), padding='same')) # 28x28x1 channel\n",
        "model.add(MaxPooling2D(2,2))\n",
        "model.add(Conv2D(32, (3,3), activation='relu', padding='same'))\n",
        "model.add(MaxPooling2D(2,2))\n",
        "\n",
        "model.add(Flatten()) #turn all the output feature maps into a single dense layer so as to connect to the 64 nodes FC layer\n",
        "model.add(Dense(64, activation='relu')) #FC or NN or Dense layer\n",
        "model.add(Dense(10, activation='softmax')) #10 classes, need softmax to output probabilities"
      ]
    },
    {
      "cell_type": "code",
      "execution_count": null,
      "metadata": {
        "colab": {
          "base_uri": "https://localhost:8080/"
        },
        "id": "8526sqK1dR70",
        "outputId": "f3c16fa2-5399-46cd-fb19-f68b39fb4130"
      },
      "outputs": [
        {
          "output_type": "stream",
          "name": "stdout",
          "text": [
            "Model: \"sequential\"\n",
            "_________________________________________________________________\n",
            " Layer (type)                Output Shape              Param #   \n",
            "=================================================================\n",
            " conv2d (Conv2D)             (None, 28, 28, 16)        160       \n",
            "                                                                 \n",
            " max_pooling2d (MaxPooling2  (None, 14, 14, 16)        0         \n",
            " D)                                                              \n",
            "                                                                 \n",
            " conv2d_1 (Conv2D)           (None, 14, 14, 32)        4640      \n",
            "                                                                 \n",
            " max_pooling2d_1 (MaxPoolin  (None, 7, 7, 32)          0         \n",
            " g2D)                                                            \n",
            "                                                                 \n",
            " flatten (Flatten)           (None, 1568)              0         \n",
            "                                                                 \n",
            " dense (Dense)               (None, 64)                100416    \n",
            "                                                                 \n",
            " dense_1 (Dense)             (None, 10)                650       \n",
            "                                                                 \n",
            "=================================================================\n",
            "Total params: 105866 (413.54 KB)\n",
            "Trainable params: 105866 (413.54 KB)\n",
            "Non-trainable params: 0 (0.00 Byte)\n",
            "_________________________________________________________________\n"
          ]
        }
      ],
      "source": [
        "model.summary()"
      ]
    },
    {
      "cell_type": "code",
      "execution_count": null,
      "metadata": {
        "id": "aU_QZ_iDd9JN"
      },
      "outputs": [],
      "source": [
        "#\n",
        "# Specify optimizer, loss function and metrics during compilation\n",
        "#\n",
        "model.compile(loss='categorical_crossentropy',\n",
        "             optimizer='adam',\n",
        "             metrics=['accuracy']) # \"accuracy\" is for evaluating model performance"
      ]
    },
    {
      "cell_type": "markdown",
      "metadata": {
        "id": "tfpzqH5af5RH"
      },
      "source": [
        "#Step 3 Train Model#"
      ]
    },
    {
      "cell_type": "code",
      "execution_count": null,
      "metadata": {
        "colab": {
          "base_uri": "https://localhost:8080/"
        },
        "id": "Ufclydy7f8Dg",
        "outputId": "ca4c637a-1db0-42ca-c9ff-99eb4d1595db"
      },
      "outputs": [
        {
          "metadata": {
            "tags": null
          },
          "name": "stdout",
          "output_type": "stream",
          "text": [
            "Epoch 1/20\n",
            "469/469 [==============================] - 42s 87ms/step - loss: 0.2856 - accuracy: 0.9189 - val_loss: 0.0833 - val_accuracy: 0.9749\n",
            "Epoch 2/20\n",
            "469/469 [==============================] - 41s 86ms/step - loss: 0.0708 - accuracy: 0.9785 - val_loss: 0.0466 - val_accuracy: 0.9849\n",
            "Epoch 3/20\n",
            "469/469 [==============================] - 37s 79ms/step - loss: 0.0511 - accuracy: 0.9844 - val_loss: 0.0462 - val_accuracy: 0.9840\n",
            "Epoch 4/20\n",
            "469/469 [==============================] - 39s 82ms/step - loss: 0.0403 - accuracy: 0.9878 - val_loss: 0.0372 - val_accuracy: 0.9881\n",
            "Epoch 5/20\n",
            "469/469 [==============================] - 39s 82ms/step - loss: 0.0325 - accuracy: 0.9902 - val_loss: 0.0321 - val_accuracy: 0.9890\n",
            "Epoch 6/20\n",
            "469/469 [==============================] - 38s 82ms/step - loss: 0.0275 - accuracy: 0.9914 - val_loss: 0.0376 - val_accuracy: 0.9887\n",
            "Epoch 7/20\n",
            "469/469 [==============================] - 36s 78ms/step - loss: 0.0236 - accuracy: 0.9926 - val_loss: 0.0332 - val_accuracy: 0.9884\n",
            "Epoch 8/20\n",
            "469/469 [==============================] - 38s 81ms/step - loss: 0.0192 - accuracy: 0.9939 - val_loss: 0.0316 - val_accuracy: 0.9910\n",
            "Epoch 9/20\n",
            "469/469 [==============================] - 41s 87ms/step - loss: 0.0160 - accuracy: 0.9947 - val_loss: 0.0311 - val_accuracy: 0.9904\n",
            "Epoch 10/20\n",
            "469/469 [==============================] - 37s 79ms/step - loss: 0.0140 - accuracy: 0.9957 - val_loss: 0.0311 - val_accuracy: 0.9902\n",
            "Epoch 11/20\n",
            "469/469 [==============================] - 39s 83ms/step - loss: 0.0131 - accuracy: 0.9956 - val_loss: 0.0309 - val_accuracy: 0.9902\n",
            "Epoch 12/20\n",
            "469/469 [==============================] - 42s 90ms/step - loss: 0.0109 - accuracy: 0.9962 - val_loss: 0.0379 - val_accuracy: 0.9888\n",
            "Epoch 13/20\n",
            "469/469 [==============================] - 39s 82ms/step - loss: 0.0081 - accuracy: 0.9974 - val_loss: 0.0317 - val_accuracy: 0.9905\n",
            "Epoch 14/20\n",
            "469/469 [==============================] - 39s 82ms/step - loss: 0.0085 - accuracy: 0.9971 - val_loss: 0.0364 - val_accuracy: 0.9898\n",
            "Epoch 15/20\n",
            "469/469 [==============================] - 38s 80ms/step - loss: 0.0071 - accuracy: 0.9977 - val_loss: 0.0326 - val_accuracy: 0.9898\n",
            "Epoch 16/20\n",
            "469/469 [==============================] - 38s 80ms/step - loss: 0.0062 - accuracy: 0.9978 - val_loss: 0.0437 - val_accuracy: 0.9889\n",
            "Epoch 17/20\n",
            "469/469 [==============================] - 37s 79ms/step - loss: 0.0057 - accuracy: 0.9981 - val_loss: 0.0377 - val_accuracy: 0.9898\n",
            "Epoch 18/20\n",
            "469/469 [==============================] - 39s 83ms/step - loss: 0.0049 - accuracy: 0.9983 - val_loss: 0.0412 - val_accuracy: 0.9903\n",
            "Epoch 19/20\n",
            "469/469 [==============================] - 38s 81ms/step - loss: 0.0052 - accuracy: 0.9981 - val_loss: 0.0456 - val_accuracy: 0.9880\n",
            "Epoch 20/20\n",
            "469/469 [==============================] - 36s 77ms/step - loss: 0.0045 - accuracy: 0.9983 - val_loss: 0.0483 - val_accuracy: 0.9886\n"
          ]
        }
      ],
      "source": [
        "#\n",
        "# ** Training **\n",
        "#\n",
        "# epochs = number of iterations\n",
        "# batch_size = how much data to randomly used together in each training iteration, typical values 64, 128\n",
        "#\n",
        "history = model.fit(X_train, y_train, epochs=20, batch_size=128, validation_data=(X_test,y_test)) # NOTE: You can also validate on-the-fly\n",
        "                                                                                                  #       during training"
      ]
    },
    {
      "cell_type": "code",
      "execution_count": null,
      "metadata": {
        "colab": {
          "base_uri": "https://localhost:8080/",
          "height": 449
        },
        "id": "1thvcJRhlElN",
        "outputId": "9d54f4f2-61a9-43f0-902d-87aa0db091f6"
      },
      "outputs": [
        {
          "output_type": "display_data",
          "data": {
            "text/plain": [
              "<Figure size 640x480 with 1 Axes>"
            ],
            "image/png": "[encoded data removed]"
          },
          "metadata": {}
        }
      ],
      "source": [
        "import matplotlib.pyplot as plt\n",
        "\n",
        "#\n",
        "# Visualization of Loss and Accuracy\n",
        "#\n",
        "loss = history.history['loss']\n",
        "val_loss = history.history['val_loss']\n",
        "acc = history.history['accuracy']\n",
        "val_acc = history.history['val_accuracy']\n",
        "epoch = range(len(loss))\n",
        "\n",
        "plt.plot(epoch, loss, label='train_loss')\n",
        "plt.plot(epoch, val_loss, label='val_loss')\n",
        "plt.xlabel('Epoch')\n",
        "plt.ylabel('Loss')\n",
        "plt.legend()\n",
        "plt.show()"
      ]
    },
    {
      "cell_type": "code",
      "execution_count": null,
      "metadata": {
        "colab": {
          "base_uri": "https://localhost:8080/",
          "height": 449
        },
        "id": "_pp1cTaFlmCr",
        "outputId": "4467a26e-08af-408b-8edf-556adf627f40"
      },
      "outputs": [
        {
          "data": {
            "image/png": "[encoded data removed]",
            "text/plain": [
              "<Figure size 640x480 with 1 Axes>"
            ]
          },
          "metadata": {},
          "output_type": "display_data"
        }
      ],
      "source": [
        "plt.plot(epoch, acc, label='train_acc')\n",
        "plt.plot(epoch, val_acc, label='val_acc')\n",
        "plt.xlabel('Epoch')\n",
        "plt.ylabel('Accuracy')\n",
        "plt.legend()\n",
        "plt.show()"
      ]
    },
    {
      "cell_type": "markdown",
      "metadata": {
        "id": "-_SvNwV1hLP_"
      },
      "source": [
        "#Step 4 Evaluate Model#"
      ]
    },
    {
      "cell_type": "code",
      "execution_count": null,
      "metadata": {
        "colab": {
          "base_uri": "https://localhost:8080/"
        },
        "id": "04bH7RfbhKKd",
        "outputId": "fa4efa37-266b-4832-85bf-31758e68438c"
      },
      "outputs": [
        {
          "metadata": {
            "tags": null
          },
          "name": "stdout",
          "output_type": "stream",
          "text": [
            "313/313 [==============================] - 3s 9ms/step - loss: 0.0483 - accuracy: 0.9886\n"
          ]
        }
      ],
      "source": [
        "loss, accuracy = model.evaluate(X_test,y_test)"
      ]
    },
    {
      "cell_type": "code",
      "execution_count": null,
      "metadata": {
        "colab": {
          "base_uri": "https://localhost:8080/"
        },
        "id": "KoiJkW16hVGp",
        "outputId": "eca72dc9-9471-4a49-b10a-f185aa73691a"
      },
      "outputs": [
        {
          "metadata": {
            "tags": null
          },
          "name": "stdout",
          "output_type": "stream",
          "text": [
            "loss =  0.04834306612610817\n",
            "accuracy =  0.9886000156402588\n"
          ]
        }
      ],
      "source": [
        "print('loss = ',loss)\n",
        "print('accuracy = ',accuracy)"
      ]
    },
    {
      "cell_type": "code",
      "execution_count": null,
      "metadata": {
        "id": "nyEx2JYFhmHD",
        "outputId": "1fd9b32f-81bf-4e7e-ae27-3b565b14a57e",
        "colab": {
          "base_uri": "https://localhost:8080/"
        }
      },
      "outputs": [
        {
          "metadata": {
            "tags": null
          },
          "name": "stderr",
          "output_type": "stream",
          "text": [
            "/usr/local/lib/python3.10/dist-packages/keras/src/engine/training.py:3103: UserWarning: You are saving your model as an HDF5 file via `model.save()`. This file format is considered legacy. We recommend using instead the native Keras format, e.g. `model.save('my_model.keras')`.\n",
            "  saving_api.save_model(\n"
          ]
        }
      ],
      "source": [
        "#\n",
        "# Save Model\n",
        "#\n",
        "model.save('/content/drive/MyDrive/app/mnist_cnn.h5') # you can transfer this for deployment"
      ]
    },
    {
      "cell_type": "markdown",
      "metadata": {
        "id": "6n1gYFBIziPx"
      },
      "source": [
        "#Step 5 Make Prediction#"
      ]
    },
    {
      "cell_type": "code",
      "execution_count": null,
      "metadata": {
        "colab": {
          "base_uri": "https://localhost:8080/"
        },
        "id": "imi6_9LCzkh2",
        "outputId": "9d00cc11-ea04-4ccb-f7ba-7d75c5f4376e"
      },
      "outputs": [
        {
          "metadata": {
            "tags": null
          },
          "name": "stdout",
          "output_type": "stream",
          "text": [
            "(28, 28, 1)\n",
            "(1, 28, 28, 1)\n",
            "1/1 [==============================] - 0s 148ms/step\n",
            "[[2.5768351e-26 2.9425522e-22 9.8932711e-15 1.3427981e-12 4.4702525e-21\n",
            "  3.9068006e-11 9.1725875e-14 2.2119132e-22 1.0000000e+00 1.0151718e-20]]\n",
            "0 0.0000\n",
            "1 0.0000\n",
            "2 0.0000\n",
            "3 0.0000\n",
            "4 0.0000\n",
            "5 0.0000\n",
            "6 0.0000\n",
            "7 0.0000\n",
            "8 1.0000\n",
            "9 0.0000\n",
            "The predicted digit is 8\n"
          ]
        }
      ],
      "source": [
        "from tensorflow.keras.models import load_model\n",
        "from tensorflow.keras.preprocessing.image import load_img\n",
        "from tensorflow.keras.preprocessing.image import img_to_array\n",
        "import numpy as np\n",
        "\n",
        "#\n",
        "# Load back the Model\n",
        "#\n",
        "loaded_model = load_model('/content/drive/MyDrive/app/mnist_cnn.h5') # we will use its predict method\n",
        "\n",
        "#\n",
        "# Load and Convert Image\n",
        "#\n",
        "# img_digit_one_sample.bmp can be found here:\n",
        "# https://drive.google.com/open?id=1RnqbnoRV5VWfEuWcDrtMXmB7tjZo41oK\n",
        "#\n",
        "# img_digit_four_sample.bmp can be found here:\n",
        "# https://drive.google.com/open?id=1zyNBk8zNEDpdYPy0KzxlGda5SAKXo7ds\n",
        "#\n",
        "# img_digit_eight_sample.bmp can be found here:\n",
        "# https://drive.google.com/file/d/1rfJO6wl6wDjmN7Dqu7ELr5FhGBW0Bswr\n",
        "#\n",
        "# For color, the default is color_mode='rgb'\n",
        "#\n",
        "#img = load_img(path=\"/content/drive/MyDrive/app/img_digit_one_sample.bmp\", color_mode = \"grayscale\", target_size=(28,28))\n",
        "#img = load_img(path=\"/content/drive/MyDrive/app/img_digit_four_sample.bmp\", color_mode = \"grayscale\", target_size=(28,28))\n",
        "img = load_img(path=\"/content/drive/MyDrive/app/img_digit_eight_sample.bmp\", color_mode = \"grayscale\", target_size=(28,28))\n",
        "#img = load_img(path=\"/content/drive/MyDrive/app/img_digit_seven_sample.bmp\", color_mode = \"grayscale\", target_size=(28,28))\n",
        "\n",
        "#\n",
        "# Pre-processing of input image data\n",
        "#\n",
        "imgArray = img_to_array(img) #convert to numpy array\n",
        "print (imgArray.shape) # (28,28,1)\n",
        "imgInput = imgArray/255.0 # normalization\n",
        "imgInput = imgInput.reshape(1,28,28,1) # make it into an array of arrays as predict method expects this\n",
        "print (imgInput.shape)\n",
        "\n",
        "#\n",
        "# Prediction\n",
        "#\n",
        "predictions = loaded_model.predict(imgInput) # Predict method expects an input format of array of arrays\n",
        "print(predictions)\n",
        "\n",
        "for i,x in enumerate(predictions[0]):\n",
        "  print(i, \"%.4f\" % x)\n",
        "\n",
        "predicted_class=np.argmax(predictions[0])\n",
        "print(\"The predicted digit is\",predicted_class)\n"
      ]
    }
  ],
  "metadata": {
    "accelerator": "GPU",
    "colab": {
      "provenance": [],
      "include_colab_link": true
    },
    "kernelspec": {
      "display_name": "Python 3",
      "name": "python3"
    }
  },
  "nbformat": 4,
  "nbformat_minor": 0
}