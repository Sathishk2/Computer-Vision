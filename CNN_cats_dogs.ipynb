{
  "nbformat": 4,
  "nbformat_minor": 0,
  "metadata": {
    "colab": {
      "provenance": [],
      "include_colab_link": true
    },
    "kernelspec": {
      "name": "python3",
      "display_name": "Python 3"
    },
    "accelerator": "GPU"
  },
  "cells": [
    {
      "cell_type": "markdown",
      "metadata": {
        "id": "view-in-github",
        "colab_type": "text"
      },
      "source": [
        "<a href=\"https://colab.research.google.com/github/Sathishk2/Computer-Vision/blob/main/CNN_cats_dogs.ipynb\" target=\"_parent\"><img src=\"https://colab.research.google.com/assets/colab-badge.svg\" alt=\"Open In Colab\"/></a>"
      ]
    },
    {
      "cell_type": "markdown",
      "source": [
        "#**Ex: Cats and Dogs**"
      ],
      "metadata": {
        "id": "3lXtF1BYdFsP"
      }
    },
    {
      "cell_type": "code",
      "source": [
        "import tensorflow as tf\n",
        "print(tf.__version__)\n",
        "\n",
        "#\n",
        "# Check if we got GPU\n",
        "#\n",
        "print(tf.test.gpu_device_name()) #Returns the name of a GPU device if available"
      ],
      "metadata": {
        "colab": {
          "base_uri": "https://localhost:8080/"
        },
        "id": "fgzaj8kVsQsQ",
        "outputId": "5567f3fd-16cc-4e56-d0f5-d49a0c18d31f"
      },
      "execution_count": null,
      "outputs": [
        {
          "output_type": "stream",
          "name": "stdout",
          "text": [
            "2.15.0\n",
            "/device:GPU:0\n"
          ]
        }
      ]
    },
    {
      "cell_type": "code",
      "source": [
        "#\n",
        "# Mount drive to connect to Google Drive (for accessing input data file)\n",
        "#\n",
        "from google.colab import drive\n",
        "drive.mount('/content/drive')"
      ],
      "metadata": {
        "id": "teiaV1CvsWI_",
        "colab": {
          "base_uri": "https://localhost:8080/"
        },
        "outputId": "0ea415a3-4d00-46c2-c60c-322097aaa29f"
      },
      "execution_count": null,
      "outputs": [
        {
          "output_type": "stream",
          "name": "stdout",
          "text": [
            "Mounted at /content/drive\n"
          ]
        }
      ]
    },
    {
      "cell_type": "markdown",
      "source": [
        "#Step 1 Prepare Data#"
      ],
      "metadata": {
        "id": "fsnj0bY-sqt0"
      }
    },
    {
      "cell_type": "code",
      "source": [
        "from tensorflow.keras.models import Sequential\n",
        "from tensorflow.keras.layers import Dense, Conv2D, Flatten, Dropout, MaxPooling2D\n",
        "from tensorflow.keras.preprocessing.image import ImageDataGenerator\n",
        "\n",
        "import os\n",
        "import numpy as np\n",
        "import matplotlib.pyplot as plt"
      ],
      "metadata": {
        "id": "OmtIsRGStRHX"
      },
      "execution_count": null,
      "outputs": []
    },
    {
      "cell_type": "code",
      "source": [
        "# (inside the zipped folder)\n",
        "# cats_and_dogs_filtered\n",
        "#          |\n",
        "#          |- train\n",
        "#          |    |- cats (1000 jpgs of cats)\n",
        "#          |    |- dogs (1000 jpgs of dogs)\n",
        "#          |\n",
        "#          |- validation\n",
        "#               |- cats (500 jpgs of cats)\n",
        "#               |- dogs (500 jpgs of dogs)\n",
        "#\n",
        "_URL = 'https://storage.googleapis.com/mledu-datasets/cats_and_dogs_filtered.zip'\n",
        "\n",
        "#\n",
        "# get the file from _URL and extract contents out in temp folder\n",
        "# the zip file is stored in the temp folder (/root/.keras/datasets)\n",
        "# at the same time, it also extract out the files/folders and put them in the temp folder too\n",
        "#\n",
        "path_to_zip = tf.keras.utils.get_file('cats_and_dogs.zip', origin=_URL, extract=True) #this tf tool extract the zip files/folders too!\n",
        "print(path_to_zip) #the zip file (full pathname) downloaded to temp folder\n",
        "\n",
        "# cats_and_dogs_filtered folder from the zip file is extracted here\n",
        "PATH = os.path.join(os.path.dirname(path_to_zip), 'cats_and_dogs_filtered')\n",
        "print(PATH)"
      ],
      "metadata": {
        "colab": {
          "base_uri": "https://localhost:8080/"
        },
        "id": "wNm3c5o8stAP",
        "outputId": "771e3930-9b60-4a9a-f9bf-e2fd1b8f8c90"
      },
      "execution_count": null,
      "outputs": [
        {
          "output_type": "stream",
          "name": "stdout",
          "text": [
            "Downloading data from https://storage.googleapis.com/mledu-datasets/cats_and_dogs_filtered.zip\n",
            "68606236/68606236 [==============================] - 0s 0us/step\n",
            "/root/.keras/datasets/cats_and_dogs.zip\n",
            "/root/.keras/datasets/cats_and_dogs_filtered\n"
          ]
        }
      ]
    },
    {
      "cell_type": "code",
      "source": [
        "!ls -la /root/.keras/datasets"
      ],
      "metadata": {
        "colab": {
          "base_uri": "https://localhost:8080/"
        },
        "id": "beHw8pll8TGz",
        "outputId": "ff2a125d-077c-4c08-e4a2-00b80c9da9c9"
      },
      "execution_count": null,
      "outputs": [
        {
          "output_type": "stream",
          "name": "stdout",
          "text": [
            "total 67012\n",
            "drwxr-xr-x 3 root root     4096 Mar 27 03:49 .\n",
            "drwxr-xr-x 3 root root     4096 Mar 27 03:49 ..\n",
            "drwxr-xr-x 4 root root     4096 Mar 27 03:49 cats_and_dogs_filtered\n",
            "-rw-r--r-- 1 root root 68606236 Mar 27 03:49 cats_and_dogs.zip\n"
          ]
        }
      ]
    },
    {
      "cell_type": "code",
      "source": [
        "!ls -la /root/.keras/datasets/cats_and_dogs_filtered"
      ],
      "metadata": {
        "colab": {
          "base_uri": "https://localhost:8080/"
        },
        "id": "_QLI55Df89in",
        "outputId": "ce34c055-1535-475d-944e-3959586cb0aa"
      },
      "execution_count": null,
      "outputs": [
        {
          "output_type": "stream",
          "name": "stdout",
          "text": [
            "total 20\n",
            "drwxr-xr-x 4 root root 4096 Mar 27 03:49 .\n",
            "drwxr-xr-x 3 root root 4096 Mar 27 03:49 ..\n",
            "drwxr-xr-x 4 root root 4096 Mar 27 03:49 train\n",
            "drwxr-xr-x 4 root root 4096 Mar 27 03:49 validation\n",
            "-rw-r--r-- 1 root root  140 Mar 27 03:49 vectorize.py\n"
          ]
        }
      ]
    },
    {
      "cell_type": "code",
      "source": [
        "!ls -la /root/.keras/datasets/cats_and_dogs_filtered/train\n",
        "!ls -la /root/.keras/datasets/cats_and_dogs_filtered/validation"
      ],
      "metadata": {
        "colab": {
          "base_uri": "https://localhost:8080/"
        },
        "id": "04a9py0Y9Ftc",
        "outputId": "55755881-d88c-492c-b4dd-2372b9b9ca77"
      },
      "execution_count": null,
      "outputs": [
        {
          "output_type": "stream",
          "name": "stdout",
          "text": [
            "total 80\n",
            "drwxr-xr-x 4 root root  4096 Mar 27 03:49 .\n",
            "drwxr-xr-x 4 root root  4096 Mar 27 03:49 ..\n",
            "drwxr-xr-x 2 root root 36864 Mar 27 03:49 cats\n",
            "drwxr-xr-x 2 root root 36864 Mar 27 03:49 dogs\n",
            "total 48\n",
            "drwxr-xr-x 4 root root  4096 Mar 27 03:49 .\n",
            "drwxr-xr-x 4 root root  4096 Mar 27 03:49 ..\n",
            "drwxr-xr-x 2 root root 20480 Mar 27 03:49 cats\n",
            "drwxr-xr-x 2 root root 20480 Mar 27 03:49 dogs\n"
          ]
        }
      ]
    },
    {
      "cell_type": "code",
      "source": [
        "train_dir = os.path.join(PATH, 'train') # training folder\n",
        "validation_dir = os.path.join(PATH, 'validation') # validation folder\n",
        "print(train_dir)\n",
        "print(validation_dir)"
      ],
      "metadata": {
        "colab": {
          "base_uri": "https://localhost:8080/"
        },
        "id": "5Az4sYfGvxi7",
        "outputId": "3ef9f6bd-6843-4a82-c832-5607ed18b699"
      },
      "execution_count": null,
      "outputs": [
        {
          "output_type": "stream",
          "name": "stdout",
          "text": [
            "/root/.keras/datasets/cats_and_dogs_filtered/train\n",
            "/root/.keras/datasets/cats_and_dogs_filtered/validation\n"
          ]
        }
      ]
    },
    {
      "cell_type": "code",
      "source": [
        "train_cats_dir = os.path.join(train_dir, 'cats')  # directory with our training cat pictures\n",
        "train_dogs_dir = os.path.join(train_dir, 'dogs')  # directory with our training dog pictures\n",
        "validation_cats_dir = os.path.join(validation_dir, 'cats')  # directory with our validation cat pictures\n",
        "validation_dogs_dir = os.path.join(validation_dir, 'dogs')  # directory with our validation dog pictures"
      ],
      "metadata": {
        "id": "qtn2AiTuQscu"
      },
      "execution_count": null,
      "outputs": []
    },
    {
      "cell_type": "code",
      "source": [
        "print(train_cats_dir)\n",
        "print(train_dogs_dir)\n",
        "print(validation_cats_dir)\n",
        "print(validation_dogs_dir)"
      ],
      "metadata": {
        "colab": {
          "base_uri": "https://localhost:8080/"
        },
        "id": "--9PcxAeRjQE",
        "outputId": "6d30136b-1544-44ba-beb1-cb5891cc1051"
      },
      "execution_count": null,
      "outputs": [
        {
          "output_type": "stream",
          "name": "stdout",
          "text": [
            "/root/.keras/datasets/cats_and_dogs_filtered/train/cats\n",
            "/root/.keras/datasets/cats_and_dogs_filtered/train/dogs\n",
            "/root/.keras/datasets/cats_and_dogs_filtered/validation/cats\n",
            "/root/.keras/datasets/cats_and_dogs_filtered/validation/dogs\n"
          ]
        }
      ]
    },
    {
      "cell_type": "code",
      "source": [
        "num_cats_tr = len(os.listdir(train_cats_dir))\n",
        "num_dogs_tr = len(os.listdir(train_dogs_dir))\n",
        "\n",
        "num_cats_val = len(os.listdir(validation_cats_dir))\n",
        "num_dogs_val = len(os.listdir(validation_dogs_dir))\n",
        "\n",
        "total_train = num_cats_tr + num_dogs_tr\n",
        "total_val = num_cats_val + num_dogs_val\n",
        "\n",
        "print('total training cat images:', num_cats_tr)\n",
        "print('total training dog images:', num_dogs_tr)\n",
        "\n",
        "print('total validation cat images:', num_cats_val)\n",
        "print('total validation dog images:', num_dogs_val)\n",
        "print(\"--\")\n",
        "print(\"Total training images:\", total_train)\n",
        "print(\"Total validation images:\", total_val)"
      ],
      "metadata": {
        "colab": {
          "base_uri": "https://localhost:8080/"
        },
        "id": "znVZ6TIiRm1U",
        "outputId": "2f5e7d71-5173-4340-ade6-e1d60b3e6c6a"
      },
      "execution_count": null,
      "outputs": [
        {
          "output_type": "stream",
          "name": "stdout",
          "text": [
            "total training cat images: 1000\n",
            "total training dog images: 1000\n",
            "total validation cat images: 500\n",
            "total validation dog images: 500\n",
            "--\n",
            "Total training images: 2000\n",
            "Total validation images: 1000\n"
          ]
        }
      ]
    },
    {
      "cell_type": "code",
      "source": [
        "# Define some constants\n",
        "BATCH_SIZE = 100\n",
        "EPOCHS = 15\n",
        "IMG_HEIGHT = 150\n",
        "IMG_WIDTH = 150"
      ],
      "metadata": {
        "id": "cc0AEqAIR6ZQ"
      },
      "execution_count": null,
      "outputs": []
    },
    {
      "cell_type": "code",
      "source": [
        "# Create ImageDataGenerator objects with transformation parameters\n",
        "train_image_generator = ImageDataGenerator(rescale=1.0/255.0)\n",
        "validation_image_generator = ImageDataGenerator(rescale=1.0/255.0)"
      ],
      "metadata": {
        "id": "d_XX3HHXSkTL"
      },
      "execution_count": null,
      "outputs": []
    },
    {
      "cell_type": "code",
      "source": [
        "# Images are flowed from directory with specified BATCH_SIZE\n",
        "train_data_gen = train_image_generator.flow_from_directory(directory=train_dir,\n",
        "                                                           target_size=(IMG_HEIGHT, IMG_WIDTH),\n",
        "                                                           batch_size=BATCH_SIZE,\n",
        "                                                           class_mode='categorical')\n",
        "\n",
        "val_data_gen = validation_image_generator.flow_from_directory(directory=validation_dir,\n",
        "                                                              target_size=(IMG_HEIGHT, IMG_WIDTH),\n",
        "                                                              batch_size=BATCH_SIZE,\n",
        "                                                              class_mode='categorical')"
      ],
      "metadata": {
        "colab": {
          "base_uri": "https://localhost:8080/"
        },
        "id": "oyQdPONrSp-L",
        "outputId": "9f35a0b9-36a0-4dcc-ee9e-32c42ee7c520"
      },
      "execution_count": null,
      "outputs": [
        {
          "output_type": "stream",
          "name": "stdout",
          "text": [
            "Found 2000 images belonging to 2 classes.\n",
            "Found 1000 images belonging to 2 classes.\n"
          ]
        }
      ]
    },
    {
      "cell_type": "code",
      "source": [
        "# cats=0, dogs=1, based on folder names in alphabetical order\n",
        "print(train_data_gen.class_indices)\n",
        "print(val_data_gen.class_indices)"
      ],
      "metadata": {
        "colab": {
          "base_uri": "https://localhost:8080/"
        },
        "id": "CP-Lx5JQuc7t",
        "outputId": "3a558219-6ef9-4ce4-d4e7-2d37d57243c3"
      },
      "execution_count": null,
      "outputs": [
        {
          "output_type": "stream",
          "name": "stdout",
          "text": [
            "{'cats': 0, 'dogs': 1}\n",
            "{'cats': 0, 'dogs': 1}\n"
          ]
        }
      ]
    },
    {
      "cell_type": "markdown",
      "source": [
        "#Step 2 Build Model#"
      ],
      "metadata": {
        "id": "sdd1GrxzQbNz"
      }
    },
    {
      "cell_type": "code",
      "metadata": {
        "id": "PmLuNeUePumA"
      },
      "source": [
        "#\n",
        "# Create Model for Classification\n",
        "#\n",
        "model = Sequential()\n",
        "\n",
        "model.add(Conv2D(16, (3,3), activation='relu', input_shape=(IMG_HEIGHT,IMG_WIDTH,3), padding='same'))\n",
        "model.add(MaxPooling2D(2,2))\n",
        "model.add(Conv2D(32, (3,3), activation='relu', padding='same'))\n",
        "model.add(MaxPooling2D(2,2))\n",
        "\n",
        "model.add(Flatten()) #turn all the output feature maps into a single dense layer so as to connect to the 64 nodes FC layer\n",
        "model.add(Dense(64, activation='relu')) #FC or NN or Dense layer\n",
        "model.add(Dense(2, activation='softmax')) #2 classes, need softmax to output probabilities, cats - 0, dogs - 1"
      ],
      "execution_count": null,
      "outputs": []
    },
    {
      "cell_type": "code",
      "metadata": {
        "id": "Er040CnfPz2p"
      },
      "source": [
        "#\n",
        "# Specify optimizer, loss function and metrics during compilation\n",
        "#\n",
        "model.compile(loss='categorical_crossentropy',\n",
        "             optimizer='adam',\n",
        "             metrics=['accuracy']) # \"accuracy\" is for evaluating model performance"
      ],
      "execution_count": null,
      "outputs": []
    },
    {
      "cell_type": "markdown",
      "source": [
        "#Step 3 & 4 Train & Evaluate Model#"
      ],
      "metadata": {
        "id": "_L1PxOWKxBdY"
      }
    },
    {
      "cell_type": "code",
      "metadata": {
        "id": "k32hy_noRLbw",
        "colab": {
          "base_uri": "https://localhost:8080/"
        },
        "outputId": "4f425628-d6b8-4e45-cf2a-28ad3ffa3d33"
      },
      "source": [
        "#steps per epoch means number of batches used per epoch. It is\n",
        "#the number of batch iterations before a training epoch is considered finished.\n",
        "#\n",
        "#use this to calculate: steps_per_epoch = (len(train data) // batch_size)\n",
        "#                       validation_steps = (len(validate data) // batch_size)\n",
        "#\n",
        "# steps_per_epoch = 2000 samples per epoch // 100 per batch = 20 batches per epoch\n",
        "# validation_steps = 1000 samples per epoch // 100 per batch = 10 batches per epoch\n",
        "#\n",
        "#Keep in mind that the data generator is meant to loop indefinitely.\n",
        "#Since the function is intended to loop indefinitely, tf has no ability to determine when one epoch starts and a new epoch begins.\n",
        "#So, we compute the steps_per_epoch value as number of batches to be processed before counting as an epoch. Similar for validation.\n",
        "#Once tf hits this step count, it knows that it’s a new epoch (think of it as major and minor epoch)\n",
        "#\n",
        "history = model.fit(\n",
        "      train_data_gen,    #which gen to use for training\n",
        "      steps_per_epoch=20, #no of training batches per epoch\n",
        "      epochs=EPOCHS,\n",
        "      validation_data=val_data_gen, #which gen to use for testing\n",
        "      validation_steps=10) #no of validation batches per epoch"
      ],
      "execution_count": null,
      "outputs": [
        {
          "output_type": "stream",
          "name": "stdout",
          "text": [
            "Epoch 1/15\n",
            "20/20 [==============================] - 11s 311ms/step - loss: 0.8608 - accuracy: 0.4950 - val_loss: 0.6899 - val_accuracy: 0.5090\n",
            "Epoch 2/15\n",
            "20/20 [==============================] - 5s 231ms/step - loss: 0.6869 - accuracy: 0.5280 - val_loss: 0.6834 - val_accuracy: 0.5570\n",
            "Epoch 3/15\n",
            "20/20 [==============================] - 6s 288ms/step - loss: 0.6651 - accuracy: 0.5740 - val_loss: 0.6495 - val_accuracy: 0.6230\n",
            "Epoch 4/15\n",
            "20/20 [==============================] - 4s 227ms/step - loss: 0.6302 - accuracy: 0.6635 - val_loss: 0.6376 - val_accuracy: 0.6660\n",
            "Epoch 5/15\n",
            "20/20 [==============================] - 6s 284ms/step - loss: 0.5927 - accuracy: 0.7185 - val_loss: 0.6242 - val_accuracy: 0.6220\n",
            "Epoch 6/15\n",
            "20/20 [==============================] - 4s 225ms/step - loss: 0.5483 - accuracy: 0.7595 - val_loss: 0.6280 - val_accuracy: 0.6490\n",
            "Epoch 7/15\n",
            "20/20 [==============================] - 5s 240ms/step - loss: 0.5107 - accuracy: 0.7965 - val_loss: 0.6165 - val_accuracy: 0.6670\n",
            "Epoch 8/15\n",
            "20/20 [==============================] - 5s 259ms/step - loss: 0.4587 - accuracy: 0.8465 - val_loss: 0.6124 - val_accuracy: 0.6980\n",
            "Epoch 9/15\n",
            "20/20 [==============================] - 5s 272ms/step - loss: 0.4164 - accuracy: 0.8915 - val_loss: 0.6935 - val_accuracy: 0.6540\n",
            "Epoch 10/15\n",
            "20/20 [==============================] - 5s 228ms/step - loss: 0.3874 - accuracy: 0.9095 - val_loss: 0.6726 - val_accuracy: 0.6610\n",
            "Epoch 11/15\n",
            "20/20 [==============================] - 6s 288ms/step - loss: 0.3549 - accuracy: 0.9360 - val_loss: 0.6598 - val_accuracy: 0.6970\n",
            "Epoch 12/15\n",
            "20/20 [==============================] - 5s 227ms/step - loss: 0.3263 - accuracy: 0.9590 - val_loss: 0.7390 - val_accuracy: 0.6780\n",
            "Epoch 13/15\n",
            "20/20 [==============================] - 5s 273ms/step - loss: 0.3033 - accuracy: 0.9680 - val_loss: 0.7036 - val_accuracy: 0.6970\n",
            "Epoch 14/15\n",
            "20/20 [==============================] - 5s 228ms/step - loss: 0.2842 - accuracy: 0.9770 - val_loss: 0.6870 - val_accuracy: 0.7020\n",
            "Epoch 15/15\n",
            "20/20 [==============================] - 5s 241ms/step - loss: 0.2672 - accuracy: 0.9845 - val_loss: 0.8241 - val_accuracy: 0.6780\n"
          ]
        }
      ]
    },
    {
      "cell_type": "code",
      "source": [
        "#\n",
        "# Visualization of Loss and Accuracy\n",
        "#\n",
        "loss = history.history['loss']\n",
        "val_loss = history.history['val_loss']\n",
        "acc = history.history['accuracy']\n",
        "val_acc = history.history['val_accuracy']\n",
        "epoch = range(len(loss))\n",
        "\n",
        "plt.plot(epoch, loss, label='train_loss')\n",
        "plt.plot(epoch, val_loss, label='val_loss')\n",
        "plt.xlabel('Epoch')\n",
        "plt.ylabel('Loss')\n",
        "plt.legend()\n",
        "plt.show()"
      ],
      "metadata": {
        "colab": {
          "base_uri": "https://localhost:8080/",
          "height": 449
        },
        "id": "6oxOSX7QyygN",
        "outputId": "d4b16af8-9076-495c-c868-4f252d04bddb"
      },
      "execution_count": null,
      "outputs": [
        {
          "output_type": "display_data",
          "data": {
            "text/plain": [
              "<Figure size 640x480 with 1 Axes>"
            ],
            "image/png": "[encoded data removed]"
          },
          "metadata": {}
        }
      ]
    },
    {
      "cell_type": "code",
      "source": [
        "plt.plot(epoch, acc, label='train_acc')\n",
        "plt.plot(epoch, val_acc, label='val_acc')\n",
        "plt.xlabel('Epoch')\n",
        "plt.ylabel('Accuracy')\n",
        "plt.legend()\n",
        "plt.show()"
      ],
      "metadata": {
        "colab": {
          "base_uri": "https://localhost:8080/",
          "height": 449
        },
        "id": "5-BIx-PMy_50",
        "outputId": "432a06c2-3ab4-49c2-b8fb-e39d953a244d"
      },
      "execution_count": null,
      "outputs": [
        {
          "output_type": "display_data",
          "data": {
            "text/plain": [
              "<Figure size 640x480 with 1 Axes>"
            ],
            "image/png": "[encoded data removed]"
          },
          "metadata": {}
        }
      ]
    },
    {
      "cell_type": "code",
      "source": [
        "#\n",
        "# Save Model\n",
        "#\n",
        "model.save('/content/drive/MyDrive/app/cats_dogs_cnn.h5')"
      ],
      "metadata": {
        "id": "gwR1OXoN0ajR",
        "colab": {
          "base_uri": "https://localhost:8080/"
        },
        "outputId": "fa64facf-3ec7-4b28-ab61-9447e4bd152e"
      },
      "execution_count": null,
      "outputs": [
        {
          "output_type": "stream",
          "name": "stderr",
          "text": [
            "/usr/local/lib/python3.10/dist-packages/keras/src/engine/training.py:3103: UserWarning: You are saving your model as an HDF5 file via `model.save()`. This file format is considered legacy. We recommend using instead the native Keras format, e.g. `model.save('my_model.keras')`.\n",
            "  saving_api.save_model(\n"
          ]
        }
      ]
    },
    {
      "cell_type": "markdown",
      "metadata": {
        "id": "hXQrHyY1oHPf"
      },
      "source": [
        "#Step 5 Make Prediction#"
      ]
    },
    {
      "cell_type": "code",
      "metadata": {
        "id": "KXFPWfw0oF3s",
        "colab": {
          "base_uri": "https://localhost:8080/"
        },
        "outputId": "14376f4a-fa52-4d02-c779-94f192889884"
      },
      "source": [
        "#\n",
        "# Note: we didn't do any saving and loading here\n",
        "#       we use the trained model directly\n",
        "#\n",
        "from tensorflow.keras.preprocessing.image import load_img\n",
        "from tensorflow.keras.preprocessing.image import img_to_array\n",
        "\n",
        "#\n",
        "# dog images for validation stored at validation_dogs_dir\n",
        "#\n",
        "object=['cat','dog']\n",
        "\n",
        "for p in range(10):\n",
        "  img = load_img(path=validation_dogs_dir+'/dog.'+str(2000+p)+'.jpg', color_mode=\"rgb\", target_size=(150,150))\n",
        "  imgArray = img_to_array(img) #convert to numpy array\n",
        "  imgInput = imgArray.reshape(1,150,150,3)/255.0\n",
        "\n",
        "  predictions = model.predict(imgInput)\n",
        "  print(predictions)\n",
        "  print(\"%s %.4f %s\" % ('dog.'+str(2000+p)+'.jpg:', predictions[0][1], object[int(predictions[0][1]>0.5)])) # cat=0, dog=1"
      ],
      "execution_count": null,
      "outputs": [
        {
          "output_type": "stream",
          "name": "stdout",
          "text": [
            "1/1 [==============================] - 0s 280ms/step\n",
            "[[2.623607e-06 9.999974e-01]]\n",
            "dog.2000.jpg: 1.0000 dog\n",
            "1/1 [==============================] - 0s 27ms/step\n",
            "[[0.27531406 0.72468597]]\n",
            "dog.2001.jpg: 0.7247 dog\n",
            "1/1 [==============================] - 0s 29ms/step\n",
            "[[1.5764181e-05 9.9998426e-01]]\n",
            "dog.2002.jpg: 1.0000 dog\n",
            "1/1 [==============================] - 0s 27ms/step\n",
            "[[0.016078 0.983922]]\n",
            "dog.2003.jpg: 0.9839 dog\n",
            "1/1 [==============================] - 0s 27ms/step\n",
            "[[0.00142114 0.9985789 ]]\n",
            "dog.2004.jpg: 0.9986 dog\n",
            "1/1 [==============================] - 0s 26ms/step\n",
            "[[0.57122856 0.42877144]]\n",
            "dog.2005.jpg: 0.4288 cat\n",
            "1/1 [==============================] - 0s 24ms/step\n",
            "[[0.6337642  0.36623576]]\n",
            "dog.2006.jpg: 0.3662 cat\n",
            "1/1 [==============================] - 0s 27ms/step\n",
            "[[0.05281448 0.94718546]]\n",
            "dog.2007.jpg: 0.9472 dog\n",
            "1/1 [==============================] - 0s 27ms/step\n",
            "[[0.6337642  0.36623576]]\n",
            "dog.2008.jpg: 0.3662 cat\n",
            "1/1 [==============================] - 0s 27ms/step\n",
            "[[0.5749871  0.42501292]]\n",
            "dog.2009.jpg: 0.4250 cat\n"
          ]
        }
      ]
    },
    {
      "cell_type": "code",
      "metadata": {
        "id": "2Vy2lBRwtGKy",
        "colab": {
          "base_uri": "https://localhost:8080/",
          "height": 490
        },
        "outputId": "d458ddbd-25e7-4338-f494-5ebf2946ccc3"
      },
      "source": [
        "from IPython.display import Image\n",
        "Image(filename=validation_dogs_dir+'/dog.2006.jpg')"
      ],
      "execution_count": null,
      "outputs": [
        {
          "output_type": "execute_result",
          "data": {
            "image/jpeg": "[encoded data removed]",
            "text/plain": [
              "<IPython.core.display.Image object>"
            ]
          },
          "metadata": {},
          "execution_count": 24
        }
      ]
    },
    {
      "cell_type": "code",
      "metadata": {
        "colab": {
          "base_uri": "https://localhost:8080/",
          "height": 416
        },
        "id": "4gYX7QCg8VG9",
        "outputId": "79faf1a7-50c1-4c92-e926-a648eb6a8cea"
      },
      "source": [
        "from IPython.display import Image\n",
        "Image(filename=validation_dogs_dir+'/dog.2008.jpg')"
      ],
      "execution_count": null,
      "outputs": [
        {
          "output_type": "execute_result",
          "data": {
            "image/jpeg": "[encoded data removed]",
            "text/plain": [
              "<IPython.core.display.Image object>"
            ]
          },
          "metadata": {},
          "execution_count": 25
        }
      ]
    },
    {
      "cell_type": "code",
      "source": [
        "from IPython.display import Image\n",
        "Image(filename='/content/drive/MyDrive/app/img_dog_bw.jpg',width=640)"
      ],
      "metadata": {
        "colab": {
          "base_uri": "https://localhost:8080/",
          "height": 311
        },
        "id": "TEguoNXfOF0H",
        "outputId": "e40dd40f-050f-4b57-9d0d-bb76138b8153"
      },
      "execution_count": null,
      "outputs": [
        {
          "output_type": "error",
          "ename": "FileNotFoundError",
          "evalue": "[Errno 2] No such file or directory: '/content/drive/MyDrive/app/img_dog_bw.jpg'",
          "traceback": [
            "\u001b[0;31m---------------------------------------------------------------------------\u001b[0m",
            "\u001b[0;31mFileNotFoundError\u001b[0m                         Traceback (most recent call last)",
            "\u001b[0;32m<ipython-input-26-96c6f72ae3e6>\u001b[0m in \u001b[0;36m<cell line: 2>\u001b[0;34m()\u001b[0m\n\u001b[1;32m      1\u001b[0m \u001b[0;32mfrom\u001b[0m \u001b[0mIPython\u001b[0m\u001b[0;34m.\u001b[0m\u001b[0mdisplay\u001b[0m \u001b[0;32mimport\u001b[0m \u001b[0mImage\u001b[0m\u001b[0;34m\u001b[0m\u001b[0;34m\u001b[0m\u001b[0m\n\u001b[0;32m----> 2\u001b[0;31m \u001b[0mImage\u001b[0m\u001b[0;34m(\u001b[0m\u001b[0mfilename\u001b[0m\u001b[0;34m=\u001b[0m\u001b[0;34m'/content/drive/MyDrive/app/img_dog_bw.jpg'\u001b[0m\u001b[0;34m,\u001b[0m\u001b[0mwidth\u001b[0m\u001b[0;34m=\u001b[0m\u001b[0;36m640\u001b[0m\u001b[0;34m)\u001b[0m\u001b[0;34m\u001b[0m\u001b[0;34m\u001b[0m\u001b[0m\n\u001b[0m",
            "\u001b[0;32m/usr/local/lib/python3.10/dist-packages/IPython/core/display.py\u001b[0m in \u001b[0;36m__init__\u001b[0;34m(self, data, url, filename, format, embed, width, height, retina, unconfined, metadata)\u001b[0m\n\u001b[1;32m   1229\u001b[0m         \u001b[0mself\u001b[0m\u001b[0;34m.\u001b[0m\u001b[0mretina\u001b[0m \u001b[0;34m=\u001b[0m \u001b[0mretina\u001b[0m\u001b[0;34m\u001b[0m\u001b[0;34m\u001b[0m\u001b[0m\n\u001b[1;32m   1230\u001b[0m         \u001b[0mself\u001b[0m\u001b[0;34m.\u001b[0m\u001b[0munconfined\u001b[0m \u001b[0;34m=\u001b[0m \u001b[0munconfined\u001b[0m\u001b[0;34m\u001b[0m\u001b[0;34m\u001b[0m\u001b[0m\n\u001b[0;32m-> 1231\u001b[0;31m         super(Image, self).__init__(data=data, url=url, filename=filename, \n\u001b[0m\u001b[1;32m   1232\u001b[0m                 metadata=metadata)\n\u001b[1;32m   1233\u001b[0m \u001b[0;34m\u001b[0m\u001b[0m\n",
            "\u001b[0;32m/usr/local/lib/python3.10/dist-packages/IPython/core/display.py\u001b[0m in \u001b[0;36m__init__\u001b[0;34m(self, data, url, filename, metadata)\u001b[0m\n\u001b[1;32m    635\u001b[0m             \u001b[0mself\u001b[0m\u001b[0;34m.\u001b[0m\u001b[0mmetadata\u001b[0m \u001b[0;34m=\u001b[0m \u001b[0;34m{\u001b[0m\u001b[0;34m}\u001b[0m\u001b[0;34m\u001b[0m\u001b[0;34m\u001b[0m\u001b[0m\n\u001b[1;32m    636\u001b[0m \u001b[0;34m\u001b[0m\u001b[0m\n\u001b[0;32m--> 637\u001b[0;31m         \u001b[0mself\u001b[0m\u001b[0;34m.\u001b[0m\u001b[0mreload\u001b[0m\u001b[0;34m(\u001b[0m\u001b[0;34m)\u001b[0m\u001b[0;34m\u001b[0m\u001b[0;34m\u001b[0m\u001b[0m\n\u001b[0m\u001b[1;32m    638\u001b[0m         \u001b[0mself\u001b[0m\u001b[0;34m.\u001b[0m\u001b[0m_check_data\u001b[0m\u001b[0;34m(\u001b[0m\u001b[0;34m)\u001b[0m\u001b[0;34m\u001b[0m\u001b[0;34m\u001b[0m\u001b[0m\n\u001b[1;32m    639\u001b[0m \u001b[0;34m\u001b[0m\u001b[0m\n",
            "\u001b[0;32m/usr/local/lib/python3.10/dist-packages/IPython/core/display.py\u001b[0m in \u001b[0;36mreload\u001b[0;34m(self)\u001b[0m\n\u001b[1;32m   1261\u001b[0m         \u001b[0;34m\"\"\"Reload the raw data from file or URL.\"\"\"\u001b[0m\u001b[0;34m\u001b[0m\u001b[0;34m\u001b[0m\u001b[0m\n\u001b[1;32m   1262\u001b[0m         \u001b[0;32mif\u001b[0m \u001b[0mself\u001b[0m\u001b[0;34m.\u001b[0m\u001b[0membed\u001b[0m\u001b[0;34m:\u001b[0m\u001b[0;34m\u001b[0m\u001b[0;34m\u001b[0m\u001b[0m\n\u001b[0;32m-> 1263\u001b[0;31m             \u001b[0msuper\u001b[0m\u001b[0;34m(\u001b[0m\u001b[0mImage\u001b[0m\u001b[0;34m,\u001b[0m\u001b[0mself\u001b[0m\u001b[0;34m)\u001b[0m\u001b[0;34m.\u001b[0m\u001b[0mreload\u001b[0m\u001b[0;34m(\u001b[0m\u001b[0;34m)\u001b[0m\u001b[0;34m\u001b[0m\u001b[0;34m\u001b[0m\u001b[0m\n\u001b[0m\u001b[1;32m   1264\u001b[0m             \u001b[0;32mif\u001b[0m \u001b[0mself\u001b[0m\u001b[0;34m.\u001b[0m\u001b[0mretina\u001b[0m\u001b[0;34m:\u001b[0m\u001b[0;34m\u001b[0m\u001b[0;34m\u001b[0m\u001b[0m\n\u001b[1;32m   1265\u001b[0m                 \u001b[0mself\u001b[0m\u001b[0;34m.\u001b[0m\u001b[0m_retina_shape\u001b[0m\u001b[0;34m(\u001b[0m\u001b[0;34m)\u001b[0m\u001b[0;34m\u001b[0m\u001b[0;34m\u001b[0m\u001b[0m\n",
            "\u001b[0;32m/usr/local/lib/python3.10/dist-packages/IPython/core/display.py\u001b[0m in \u001b[0;36mreload\u001b[0;34m(self)\u001b[0m\n\u001b[1;32m    660\u001b[0m         \u001b[0;34m\"\"\"Reload the raw data from file or URL.\"\"\"\u001b[0m\u001b[0;34m\u001b[0m\u001b[0;34m\u001b[0m\u001b[0m\n\u001b[1;32m    661\u001b[0m         \u001b[0;32mif\u001b[0m \u001b[0mself\u001b[0m\u001b[0;34m.\u001b[0m\u001b[0mfilename\u001b[0m \u001b[0;32mis\u001b[0m \u001b[0;32mnot\u001b[0m \u001b[0;32mNone\u001b[0m\u001b[0;34m:\u001b[0m\u001b[0;34m\u001b[0m\u001b[0;34m\u001b[0m\u001b[0m\n\u001b[0;32m--> 662\u001b[0;31m             \u001b[0;32mwith\u001b[0m \u001b[0mopen\u001b[0m\u001b[0;34m(\u001b[0m\u001b[0mself\u001b[0m\u001b[0;34m.\u001b[0m\u001b[0mfilename\u001b[0m\u001b[0;34m,\u001b[0m \u001b[0mself\u001b[0m\u001b[0;34m.\u001b[0m\u001b[0m_read_flags\u001b[0m\u001b[0;34m)\u001b[0m \u001b[0;32mas\u001b[0m \u001b[0mf\u001b[0m\u001b[0;34m:\u001b[0m\u001b[0;34m\u001b[0m\u001b[0;34m\u001b[0m\u001b[0m\n\u001b[0m\u001b[1;32m    663\u001b[0m                 \u001b[0mself\u001b[0m\u001b[0;34m.\u001b[0m\u001b[0mdata\u001b[0m \u001b[0;34m=\u001b[0m \u001b[0mf\u001b[0m\u001b[0;34m.\u001b[0m\u001b[0mread\u001b[0m\u001b[0;34m(\u001b[0m\u001b[0;34m)\u001b[0m\u001b[0;34m\u001b[0m\u001b[0;34m\u001b[0m\u001b[0m\n\u001b[1;32m    664\u001b[0m         \u001b[0;32melif\u001b[0m \u001b[0mself\u001b[0m\u001b[0;34m.\u001b[0m\u001b[0murl\u001b[0m \u001b[0;32mis\u001b[0m \u001b[0;32mnot\u001b[0m \u001b[0;32mNone\u001b[0m\u001b[0;34m:\u001b[0m\u001b[0;34m\u001b[0m\u001b[0;34m\u001b[0m\u001b[0m\n",
            "\u001b[0;31mFileNotFoundError\u001b[0m: [Errno 2] No such file or directory: '/content/drive/MyDrive/app/img_dog_bw.jpg'"
          ]
        }
      ]
    },
    {
      "cell_type": "code",
      "source": [
        "from tensorflow.keras.preprocessing.image import load_img\n",
        "from tensorflow.keras.preprocessing.image import img_to_array\n",
        "\n",
        "object=['cat','dog']\n",
        "\n",
        "img = load_img(path='/content/drive/MyDrive/app/img_dog_bw.jpg', color_mode=\"rgb\", target_size=(150,150))\n",
        "imgArray = img_to_array(img) #convert to numpy array\n",
        "imgInput = imgArray.reshape(1,150,150,3)/255.0\n",
        "\n",
        "predictions = model.predict(imgInput)\n",
        "print(predictions)\n",
        "print(\"%.4f %s\" % (predictions[0][1], object[int(predictions[0][1]>0.5)])) # cat=0, dog=1"
      ],
      "metadata": {
        "id": "a9e0Rh7LOX1Q"
      },
      "execution_count": null,
      "outputs": []
    },
    {
      "cell_type": "markdown",
      "source": [
        "**Making predictions on many pictures**"
      ],
      "metadata": {
        "id": "4w9n8c6pLQZH"
      }
    },
    {
      "cell_type": "code",
      "source": [
        "#\n",
        "# Note: we didn't do any saving and loading here\n",
        "#       we use the trained model directly\n",
        "#\n",
        "from tensorflow.keras.preprocessing.image import load_img\n",
        "from tensorflow.keras.preprocessing.image import img_to_array\n",
        "\n",
        "#\n",
        "# dog images for validation stored at validation_dogs_dir\n",
        "#\n",
        "object=['cat','dog']\n",
        "\n",
        "for p in range(10):\n",
        "  img = load_img(path=validation_dogs_dir+'/dog.'+str(2000+p)+'.jpg', color_mode=\"rgb\", target_size=(150,150))\n",
        "  imgArray = img_to_array(img) #convert to numpy array\n",
        "  imgInput = imgArray.reshape(1,150,150,3)/255.0\n",
        "\n",
        "  predictions = model.predict(imgInput)\n",
        "  print(predictions)\n",
        "  print(\"%s %.4f %s\" % ('dog.'+str(2000+p)+'.jpg:', predictions[0][1], object[int(predictions[0][1]>0.5)])) # cat=0, dog=1"
      ],
      "metadata": {
        "id": "aImj4DdlLTys"
      },
      "execution_count": null,
      "outputs": []
    }
  ]
}