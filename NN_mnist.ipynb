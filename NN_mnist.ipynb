{
  "nbformat": 4,
  "nbformat_minor": 0,
  "metadata": {
    "colab": {
      "provenance": [],
      "include_colab_link": true
    },
    "kernelspec": {
      "name": "python3",
      "display_name": "Python 3"
    },
    "accelerator": "GPU"
  },
  "cells": [
    {
      "cell_type": "markdown",
      "metadata": {
        "id": "view-in-github",
        "colab_type": "text"
      },
      "source": [
        "<a href=\"https://colab.research.google.com/github/Sathishk2/Computer-Vision/blob/main/NN_mnist.ipynb\" target=\"_parent\"><img src=\"https://colab.research.google.com/assets/colab-badge.svg\" alt=\"Open In Colab\"/></a>"
      ]
    },
    {
      "cell_type": "markdown",
      "source": [
        "#**Ex: MNIST Handwritten Digits**"
      ],
      "metadata": {
        "id": "DNpZ2qauV4Ot"
      }
    },
    {
      "cell_type": "code",
      "source": [
        "import tensorflow as tf\n",
        "print(tf.__version__)\n",
        "\n",
        "#\n",
        "# Check if we got GPU\n",
        "#\n",
        "print(tf.test.gpu_device_name()) #Returns the name of a GPU device if available"
      ],
      "metadata": {
        "colab": {
          "base_uri": "https://localhost:8080/"
        },
        "id": "prmfavfkWRN-",
        "outputId": "c0356b09-7330-4725-8c6d-6650388dacc4"
      },
      "execution_count": null,
      "outputs": [
        {
          "output_type": "stream",
          "name": "stdout",
          "text": [
            "2.15.0\n",
            "/device:GPU:0\n"
          ]
        }
      ]
    },
    {
      "cell_type": "code",
      "source": [
        "#\n",
        "# Mount drive to connect to Google Drive (for accessing input data file)\n",
        "#\n",
        "from google.colab import drive\n",
        "drive.mount('/content/drive')"
      ],
      "metadata": {
        "colab": {
          "base_uri": "https://localhost:8080/"
        },
        "id": "j__-BPD3WUB0",
        "outputId": "56260d09-a9b4-4192-84cc-14af6ba6af4a"
      },
      "execution_count": null,
      "outputs": [
        {
          "output_type": "stream",
          "name": "stdout",
          "text": [
            "Mounted at /content/drive\n"
          ]
        }
      ]
    },
    {
      "cell_type": "markdown",
      "metadata": {
        "id": "LkjDN-1XZcdq"
      },
      "source": [
        "#Step 1 Prepare Data#"
      ]
    },
    {
      "cell_type": "code",
      "metadata": {
        "id": "01hvw0qOvJLm",
        "colab": {
          "base_uri": "https://localhost:8080/"
        },
        "outputId": "4f4196cb-8ad0-4d29-b9c3-a689455ef37f"
      },
      "source": [
        "#\n",
        "# tf already contains copy of MNIST dataset\n",
        "# No need to download or import\n",
        "# No need to clean as it's already been cleaned\n",
        "# No need to split the data into training/testing as it's already been splitted too\n",
        "#\n",
        "import tensorflow as tf\n",
        "from tensorflow.keras.datasets import mnist # this dataset has already been provided inside tf\n",
        "\n",
        "(X_train, y_train), (X_test, y_test) = mnist.load_data() # 60,000 for training, 10,000 for testing\n",
        "                                                         # dataset already splitted internally to train/test\n",
        "print(X_train.shape, y_train.shape) #(60000, 28, 28) (60000,)\n",
        "print(X_test.shape, y_test.shape) #(10000, 28, 28) (10000,)\n",
        "\n",
        "#\n",
        "# Data Normalization\n",
        "#\n",
        "# (1) convert to Z Standardized Score (x-mean)/std\n",
        "# (2) Convert via min-max via div by max (i.e. values between 0 and 1)\n",
        "#\n",
        "X_train = X_train / 255.0 #normalise to between 0 and 1.0, original is 0 to 255 (i.e. 0 is black, 1 is white)\n",
        "X_test = X_test / 255.0\n",
        "\n",
        "#\n",
        "# One Hot Encoding - convert value to 1D vector\n",
        "#\n",
        "y_train = tf.keras.utils.to_categorical(y_train) # will auto detect and convert to 1D vector of 10d\n",
        "y_test = tf.keras.utils.to_categorical(y_test)\n",
        "print(y_train.shape)\n",
        "print(y_test.shape)"
      ],
      "execution_count": null,
      "outputs": [
        {
          "output_type": "stream",
          "name": "stdout",
          "text": [
            "Downloading data from https://storage.googleapis.com/tensorflow/tf-keras-datasets/mnist.npz\n",
            "11490434/11490434 [==============================] - 0s 0us/step\n",
            "(60000, 28, 28) (60000,)\n",
            "(10000, 28, 28) (10000,)\n",
            "(60000, 10)\n",
            "(10000, 10)\n"
          ]
        }
      ]
    },
    {
      "cell_type": "code",
      "metadata": {
        "id": "kWZvw4hIWkN5",
        "colab": {
          "base_uri": "https://localhost:8080/"
        },
        "outputId": "c69c270d-fb80-413b-90f7-c467a9ea9472"
      },
      "source": [
        "print(X_train[1023,:])"
      ],
      "execution_count": null,
      "outputs": [
        {
          "output_type": "stream",
          "name": "stdout",
          "text": [
            "[[0.         0.         0.         0.         0.         0.\n",
            "  0.         0.         0.         0.         0.         0.\n",
            "  0.         0.         0.         0.         0.         0.\n",
            "  0.         0.         0.         0.         0.         0.\n",
            "  0.         0.         0.         0.        ]\n",
            " [0.         0.         0.         0.         0.         0.\n",
            "  0.         0.         0.         0.         0.         0.\n",
            "  0.         0.         0.         0.         0.         0.\n",
            "  0.         0.         0.         0.         0.         0.\n",
            "  0.         0.         0.         0.        ]\n",
            " [0.         0.         0.         0.         0.         0.\n",
            "  0.         0.         0.         0.         0.         0.\n",
            "  0.         0.         0.         0.         0.         0.\n",
            "  0.         0.         0.         0.         0.         0.\n",
            "  0.         0.         0.         0.        ]\n",
            " [0.         0.         0.         0.         0.         0.\n",
            "  0.         0.         0.         0.         0.         0.\n",
            "  0.         0.         0.         0.         0.         0.\n",
            "  0.         0.         0.         0.         0.         0.\n",
            "  0.         0.         0.         0.        ]\n",
            " [0.         0.         0.         0.         0.         0.\n",
            "  0.         0.         0.         0.         0.         0.\n",
            "  0.         0.         0.         0.         0.         0.\n",
            "  0.         0.         0.         0.         0.         0.\n",
            "  0.         0.         0.         0.        ]\n",
            " [0.         0.         0.         0.         0.         0.\n",
            "  0.         0.         0.         0.         0.         0.\n",
            "  0.         0.         0.         0.         0.         0.\n",
            "  0.         0.         0.         0.         0.         0.\n",
            "  0.         0.         0.         0.        ]\n",
            " [0.         0.         0.         0.         0.         0.\n",
            "  0.         0.         0.         0.         0.         0.\n",
            "  0.         0.         0.         0.         0.         0.\n",
            "  0.         0.         0.         0.         0.         0.\n",
            "  0.         0.         0.         0.        ]\n",
            " [0.         0.         0.         0.         0.         0.\n",
            "  0.         0.         0.         0.         0.         0.\n",
            "  0.         0.         0.         0.         0.         0.\n",
            "  0.         0.         0.         0.         0.         0.\n",
            "  0.         0.         0.         0.        ]\n",
            " [0.         0.         0.         0.         0.         0.\n",
            "  0.         0.         0.         0.         0.         0.\n",
            "  0.         0.         0.         0.         0.         0.\n",
            "  0.         0.         0.         0.         0.         0.\n",
            "  0.         0.         0.         0.        ]\n",
            " [0.         0.         0.         0.         0.         0.\n",
            "  0.         0.         0.         0.         0.         0.\n",
            "  0.         0.         0.         0.         0.         0.\n",
            "  0.         0.         0.07843137 0.11372549 0.         0.\n",
            "  0.         0.         0.         0.        ]\n",
            " [0.         0.         0.         0.02352941 0.61176471 0.25882353\n",
            "  0.         0.         0.         0.         0.         0.\n",
            "  0.         0.17254902 0.85490196 0.88627451 0.24705882 0.21568627\n",
            "  0.42745098 0.71372549 0.96078431 0.8745098  0.         0.\n",
            "  0.         0.         0.         0.        ]\n",
            " [0.         0.         0.         0.50588235 0.90588235 0.13333333\n",
            "  0.         0.         0.         0.         0.         0.16470588\n",
            "  0.60392157 0.96078431 0.99607843 0.99607843 0.99607843 0.99607843\n",
            "  0.90980392 0.97254902 0.94509804 0.36078431 0.         0.\n",
            "  0.         0.         0.         0.        ]\n",
            " [0.         0.         0.36862745 0.95294118 0.16862745 0.\n",
            "  0.         0.         0.         0.36470588 0.81960784 0.99607843\n",
            "  0.99607843 0.99607843 0.96470588 0.74901961 0.49803922 0.23529412\n",
            "  0.14509804 0.9254902  0.55294118 0.         0.         0.\n",
            "  0.         0.         0.         0.        ]\n",
            " [0.         0.         1.         0.34509804 0.         0.\n",
            "  0.         0.         0.         0.91764706 0.99607843 0.7372549\n",
            "  0.39607843 0.2        0.08235294 0.         0.         0.03529412\n",
            "  0.74901961 0.83137255 0.04313725 0.         0.         0.\n",
            "  0.         0.         0.         0.        ]\n",
            " [0.         0.         0.17647059 0.00392157 0.         0.\n",
            "  0.         0.         0.         0.24313725 0.15686275 0.00392157\n",
            "  0.         0.         0.         0.         0.00784314 0.68235294\n",
            "  0.88627451 0.16078431 0.         0.         0.         0.\n",
            "  0.         0.         0.         0.        ]\n",
            " [0.         0.         0.         0.         0.         0.\n",
            "  0.         0.         0.         0.         0.         0.\n",
            "  0.         0.         0.         0.         0.38823529 0.96078431\n",
            "  0.23921569 0.         0.         0.         0.         0.\n",
            "  0.         0.         0.         0.        ]\n",
            " [0.         0.         0.         0.         0.         0.\n",
            "  0.         0.         0.         0.         0.         0.\n",
            "  0.         0.         0.         0.3372549  0.97254902 0.44313725\n",
            "  0.         0.         0.         0.         0.         0.\n",
            "  0.         0.         0.         0.        ]\n",
            " [0.         0.         0.         0.         0.         0.\n",
            "  0.         0.         0.         0.         0.         0.\n",
            "  0.         0.         0.28235294 0.97647059 0.54509804 0.\n",
            "  0.         0.         0.         0.         0.         0.\n",
            "  0.         0.         0.         0.        ]\n",
            " [0.         0.         0.         0.         0.         0.\n",
            "  0.         0.         0.         0.         0.         0.\n",
            "  0.         0.21176471 0.91372549 0.76862745 0.05882353 0.\n",
            "  0.         0.         0.         0.         0.         0.\n",
            "  0.         0.         0.         0.        ]\n",
            " [0.         0.         0.         0.         0.         0.\n",
            "  0.         0.         0.         0.         0.         0.\n",
            "  0.02352941 0.88627451 0.81176471 0.07843137 0.         0.\n",
            "  0.         0.         0.         0.         0.         0.\n",
            "  0.         0.         0.         0.        ]\n",
            " [0.         0.         0.         0.         0.         0.\n",
            "  0.         0.         0.         0.         0.         0.04313725\n",
            "  0.65490196 0.91372549 0.28235294 0.         0.         0.\n",
            "  0.         0.         0.         0.         0.         0.\n",
            "  0.         0.         0.         0.        ]\n",
            " [0.         0.         0.         0.         0.         0.\n",
            "  0.         0.         0.         0.         0.         0.53333333\n",
            "  0.96862745 0.22745098 0.         0.         0.         0.\n",
            "  0.         0.         0.         0.         0.         0.\n",
            "  0.         0.         0.         0.        ]\n",
            " [0.         0.         0.         0.         0.         0.\n",
            "  0.         0.         0.         0.         0.12156863 0.95294118\n",
            "  0.42352941 0.         0.         0.         0.         0.\n",
            "  0.         0.         0.         0.         0.         0.\n",
            "  0.         0.         0.         0.        ]\n",
            " [0.         0.         0.         0.         0.         0.\n",
            "  0.         0.         0.         0.         0.54117647 0.6627451\n",
            "  0.00784314 0.         0.         0.         0.         0.\n",
            "  0.         0.         0.         0.         0.         0.\n",
            "  0.         0.         0.         0.        ]\n",
            " [0.         0.         0.         0.         0.         0.\n",
            "  0.         0.         0.         0.         0.09411765 0.06666667\n",
            "  0.         0.         0.         0.         0.         0.\n",
            "  0.         0.         0.         0.         0.         0.\n",
            "  0.         0.         0.         0.        ]\n",
            " [0.         0.         0.         0.         0.         0.\n",
            "  0.         0.         0.         0.         0.         0.\n",
            "  0.         0.         0.         0.         0.         0.\n",
            "  0.         0.         0.         0.         0.         0.\n",
            "  0.         0.         0.         0.        ]\n",
            " [0.         0.         0.         0.         0.         0.\n",
            "  0.         0.         0.         0.         0.         0.\n",
            "  0.         0.         0.         0.         0.         0.\n",
            "  0.         0.         0.         0.         0.         0.\n",
            "  0.         0.         0.         0.        ]\n",
            " [0.         0.         0.         0.         0.         0.\n",
            "  0.         0.         0.         0.         0.         0.\n",
            "  0.         0.         0.         0.         0.         0.\n",
            "  0.         0.         0.         0.         0.         0.\n",
            "  0.         0.         0.         0.        ]]\n"
          ]
        }
      ]
    },
    {
      "cell_type": "code",
      "source": [
        "print(X_train[1023,12])"
      ],
      "metadata": {
        "colab": {
          "base_uri": "https://localhost:8080/"
        },
        "id": "Dgn6gg5K5vRM",
        "outputId": "b6ef67a0-57fe-4925-a3bb-7632e0b9d018"
      },
      "execution_count": null,
      "outputs": [
        {
          "output_type": "stream",
          "name": "stdout",
          "text": [
            "[0.         0.         0.36862745 0.95294118 0.16862745 0.\n",
            " 0.         0.         0.         0.36470588 0.81960784 0.99607843\n",
            " 0.99607843 0.99607843 0.96470588 0.74901961 0.49803922 0.23529412\n",
            " 0.14509804 0.9254902  0.55294118 0.         0.         0.\n",
            " 0.         0.         0.         0.        ]\n"
          ]
        }
      ]
    },
    {
      "cell_type": "code",
      "metadata": {
        "id": "wDI4BUAgZlxc",
        "colab": {
          "base_uri": "https://localhost:8080/"
        },
        "outputId": "89b88d6a-9aa0-4d70-9535-5a7af1599381"
      },
      "source": [
        "print(y_train[1023,:])"
      ],
      "execution_count": null,
      "outputs": [
        {
          "output_type": "stream",
          "name": "stdout",
          "text": [
            "[0. 0. 0. 0. 0. 0. 0. 1. 0. 0.]\n"
          ]
        }
      ]
    },
    {
      "cell_type": "code",
      "metadata": {
        "id": "VrmaPSAxXDyi"
      },
      "source": [
        "import matplotlib.pyplot as plt\n",
        "def show_digit_in_training_set(index):\n",
        "  image = X_train[index] #aleady in 28x28\n",
        "  plt.imshow(image,cmap='gray')\n",
        "  plt.show()"
      ],
      "execution_count": null,
      "outputs": []
    },
    {
      "cell_type": "code",
      "metadata": {
        "id": "b2VpVQ-9YHZQ",
        "colab": {
          "base_uri": "https://localhost:8080/",
          "height": 430
        },
        "outputId": "a552df20-5ca1-4a9b-c40a-1090db504698"
      },
      "source": [
        "show_digit_in_training_set(1023)"
      ],
      "execution_count": null,
      "outputs": [
        {
          "output_type": "display_data",
          "data": {
            "text/plain": [
              "<Figure size 640x480 with 1 Axes>"
            ],
            "image/png": "[encoded data removed]"
          },
          "metadata": {}
        }
      ]
    },
    {
      "cell_type": "markdown",
      "metadata": {
        "id": "9LkJJtl0crqO"
      },
      "source": [
        "#Step 2 Build Model#"
      ]
    },
    {
      "cell_type": "code",
      "metadata": {
        "id": "dOVoiSS5dTkH"
      },
      "source": [
        "from tensorflow.keras.models import Sequential\n",
        "from tensorflow.keras.layers import Dense, Flatten\n",
        "\n",
        "#\n",
        "# Create Model for Classification\n",
        "#\n",
        "model = Sequential() #Define Dense NN model sequentially\n",
        "model.add(Flatten(input_shape=(28, 28))) # each pic input is 28x28, this will flatten into 728 internally, we don't have to worry\n",
        "model.add(Dense(64,activation='relu'))\n",
        "model.add(Dense(32,activation='relu'))\n",
        "model.add(Dense(10,activation='softmax')) #10 classes, need softmax to output probabilities"
      ],
      "execution_count": null,
      "outputs": []
    },
    {
      "cell_type": "code",
      "source": [
        "model.summary()"
      ],
      "metadata": {
        "colab": {
          "base_uri": "https://localhost:8080/"
        },
        "id": "8526sqK1dR70",
        "outputId": "ad0a3be9-c587-4882-e0f9-01c8320e7ea3"
      },
      "execution_count": null,
      "outputs": [
        {
          "output_type": "stream",
          "name": "stdout",
          "text": [
            "Model: \"sequential\"\n",
            "_________________________________________________________________\n",
            " Layer (type)                Output Shape              Param #   \n",
            "=================================================================\n",
            " flatten (Flatten)           (None, 784)               0         \n",
            "                                                                 \n",
            " dense (Dense)               (None, 64)                50240     \n",
            "                                                                 \n",
            " dense_1 (Dense)             (None, 32)                2080      \n",
            "                                                                 \n",
            " dense_2 (Dense)             (None, 10)                330       \n",
            "                                                                 \n",
            "=================================================================\n",
            "Total params: 52650 (205.66 KB)\n",
            "Trainable params: 52650 (205.66 KB)\n",
            "Non-trainable params: 0 (0.00 Byte)\n",
            "_________________________________________________________________\n"
          ]
        }
      ]
    },
    {
      "cell_type": "code",
      "metadata": {
        "id": "aU_QZ_iDd9JN"
      },
      "source": [
        "#\n",
        "# Specify optimizer, loss function and metrics during compilation\n",
        "#\n",
        "model.compile(loss='categorical_crossentropy',\n",
        "             optimizer='adam',\n",
        "             metrics=['accuracy']) # \"accuracy\" is for evaluating model performance"
      ],
      "execution_count": null,
      "outputs": []
    },
    {
      "cell_type": "markdown",
      "metadata": {
        "id": "tfpzqH5af5RH"
      },
      "source": [
        "#Step 3 Train Model#"
      ]
    },
    {
      "cell_type": "code",
      "metadata": {
        "id": "Ufclydy7f8Dg",
        "colab": {
          "base_uri": "https://localhost:8080/"
        },
        "outputId": "8dc7d35d-1e0f-49fa-a24b-f41e2729a3e6"
      },
      "source": [
        "#\n",
        "# ** Training **\n",
        "#\n",
        "# epochs = number of iterations\n",
        "# batch_size = how much data to randomly used together in each training iteration, typical values 64, 128\n",
        "#\n",
        "history = model.fit(X_train, y_train, epochs=20, batch_size=128, validation_data=(X_test,y_test)) # NOTE: You can also validate on-the-fly\n",
        "                                                                                                  #       during training"
      ],
      "execution_count": null,
      "outputs": [
        {
          "output_type": "stream",
          "name": "stdout",
          "text": [
            "Epoch 1/20\n",
            "469/469 [==============================] - 4s 4ms/step - loss: 0.4051 - accuracy: 0.8891 - val_loss: 0.2060 - val_accuracy: 0.9391\n",
            "Epoch 2/20\n",
            "469/469 [==============================] - 2s 4ms/step - loss: 0.1736 - accuracy: 0.9497 - val_loss: 0.1508 - val_accuracy: 0.9547\n",
            "Epoch 3/20\n",
            "469/469 [==============================] - 2s 4ms/step - loss: 0.1316 - accuracy: 0.9620 - val_loss: 0.1239 - val_accuracy: 0.9639\n",
            "Epoch 4/20\n",
            "469/469 [==============================] - 2s 4ms/step - loss: 0.1067 - accuracy: 0.9681 - val_loss: 0.1202 - val_accuracy: 0.9624\n",
            "Epoch 5/20\n",
            "469/469 [==============================] - 2s 4ms/step - loss: 0.0908 - accuracy: 0.9736 - val_loss: 0.0985 - val_accuracy: 0.9695\n",
            "Epoch 6/20\n",
            "469/469 [==============================] - 2s 4ms/step - loss: 0.0772 - accuracy: 0.9774 - val_loss: 0.0951 - val_accuracy: 0.9709\n",
            "Epoch 7/20\n",
            "469/469 [==============================] - 2s 4ms/step - loss: 0.0672 - accuracy: 0.9799 - val_loss: 0.0893 - val_accuracy: 0.9733\n",
            "Epoch 8/20\n",
            "469/469 [==============================] - 2s 3ms/step - loss: 0.0603 - accuracy: 0.9814 - val_loss: 0.0827 - val_accuracy: 0.9753\n",
            "Epoch 9/20\n",
            "469/469 [==============================] - 2s 3ms/step - loss: 0.0527 - accuracy: 0.9835 - val_loss: 0.0845 - val_accuracy: 0.9738\n",
            "Epoch 10/20\n",
            "469/469 [==============================] - 2s 4ms/step - loss: 0.0463 - accuracy: 0.9859 - val_loss: 0.0877 - val_accuracy: 0.9738\n",
            "Epoch 11/20\n",
            "469/469 [==============================] - 2s 4ms/step - loss: 0.0420 - accuracy: 0.9871 - val_loss: 0.0869 - val_accuracy: 0.9757\n",
            "Epoch 12/20\n",
            "469/469 [==============================] - 2s 4ms/step - loss: 0.0370 - accuracy: 0.9890 - val_loss: 0.0921 - val_accuracy: 0.9726\n",
            "Epoch 13/20\n",
            "469/469 [==============================] - 2s 3ms/step - loss: 0.0346 - accuracy: 0.9895 - val_loss: 0.0937 - val_accuracy: 0.9728\n",
            "Epoch 14/20\n",
            "469/469 [==============================] - 2s 3ms/step - loss: 0.0304 - accuracy: 0.9903 - val_loss: 0.0891 - val_accuracy: 0.9753\n",
            "Epoch 15/20\n",
            "469/469 [==============================] - 2s 4ms/step - loss: 0.0256 - accuracy: 0.9926 - val_loss: 0.1019 - val_accuracy: 0.9706\n",
            "Epoch 16/20\n",
            "469/469 [==============================] - 2s 4ms/step - loss: 0.0244 - accuracy: 0.9927 - val_loss: 0.0910 - val_accuracy: 0.9748\n",
            "Epoch 17/20\n",
            "469/469 [==============================] - 2s 3ms/step - loss: 0.0206 - accuracy: 0.9941 - val_loss: 0.0899 - val_accuracy: 0.9752\n",
            "Epoch 18/20\n",
            "469/469 [==============================] - 2s 4ms/step - loss: 0.0196 - accuracy: 0.9943 - val_loss: 0.1015 - val_accuracy: 0.9732\n",
            "Epoch 19/20\n",
            "469/469 [==============================] - 2s 5ms/step - loss: 0.0190 - accuracy: 0.9939 - val_loss: 0.0999 - val_accuracy: 0.9746\n",
            "Epoch 20/20\n",
            "469/469 [==============================] - 2s 3ms/step - loss: 0.0140 - accuracy: 0.9962 - val_loss: 0.1034 - val_accuracy: 0.9736\n"
          ]
        }
      ]
    },
    {
      "cell_type": "code",
      "source": [
        "import matplotlib.pyplot as plt\n",
        "\n",
        "#\n",
        "# Visualization of Loss and Accuracy\n",
        "#\n",
        "loss = history.history['loss']\n",
        "val_loss = history.history['val_loss']\n",
        "acc = history.history['accuracy']\n",
        "val_acc = history.history['val_accuracy']\n",
        "epoch = range(len(loss))\n",
        "\n",
        "plt.plot(epoch, loss, label='train_loss')\n",
        "plt.plot(epoch, val_loss, label='val_loss')\n",
        "plt.xlabel('Epoch')\n",
        "plt.ylabel('Loss')\n",
        "plt.legend()\n",
        "plt.show()"
      ],
      "metadata": {
        "colab": {
          "base_uri": "https://localhost:8080/",
          "height": 449
        },
        "id": "1thvcJRhlElN",
        "outputId": "fa95b71f-8a28-47e6-c93a-488ee0546bc9"
      },
      "execution_count": null,
      "outputs": [
        {
          "output_type": "display_data",
          "data": {
            "text/plain": [
              "<Figure size 640x480 with 1 Axes>"
            ],
            "image/png": "[encoded data removed]"
          },
          "metadata": {}
        }
      ]
    },
    {
      "cell_type": "code",
      "source": [
        "plt.plot(epoch, acc, label='train_acc')\n",
        "plt.plot(epoch, val_acc, label='val_acc')\n",
        "plt.xlabel('Epoch')\n",
        "plt.ylabel('Accuracy')\n",
        "plt.legend()\n",
        "plt.show()"
      ],
      "metadata": {
        "colab": {
          "base_uri": "https://localhost:8080/",
          "height": 450
        },
        "id": "_pp1cTaFlmCr",
        "outputId": "ce69525f-9371-4a0d-c53e-2fbb6464980e"
      },
      "execution_count": null,
      "outputs": [
        {
          "output_type": "display_data",
          "data": {
            "text/plain": [
              "<Figure size 640x480 with 1 Axes>"
            ],
            "image/png": "[encoded data removed]"
          },
          "metadata": {}
        }
      ]
    },
    {
      "cell_type": "markdown",
      "metadata": {
        "id": "-_SvNwV1hLP_"
      },
      "source": [
        "#Step 4 Evaluate Model#"
      ]
    },
    {
      "cell_type": "code",
      "metadata": {
        "id": "04bH7RfbhKKd",
        "colab": {
          "base_uri": "https://localhost:8080/"
        },
        "outputId": "d8e47556-f268-43d6-f573-28bc70eb5e60"
      },
      "source": [
        "loss, accuracy = model.evaluate(X_test,y_test)"
      ],
      "execution_count": null,
      "outputs": [
        {
          "output_type": "stream",
          "name": "stdout",
          "text": [
            "313/313 [==============================] - 1s 2ms/step - loss: 0.1034 - accuracy: 0.9736\n"
          ]
        }
      ]
    },
    {
      "cell_type": "code",
      "metadata": {
        "id": "KoiJkW16hVGp",
        "colab": {
          "base_uri": "https://localhost:8080/"
        },
        "outputId": "e467c650-0406-42f0-f074-3209cf1ab51b"
      },
      "source": [
        "print('loss = ',loss)\n",
        "print('accuracy = ',accuracy)"
      ],
      "execution_count": null,
      "outputs": [
        {
          "output_type": "stream",
          "name": "stdout",
          "text": [
            "loss =  0.10338196158409119\n",
            "accuracy =  0.9735999703407288\n"
          ]
        }
      ]
    },
    {
      "cell_type": "code",
      "metadata": {
        "id": "nyEx2JYFhmHD",
        "colab": {
          "base_uri": "https://localhost:8080/"
        },
        "outputId": "91f2ab08-080a-454d-ed5f-dfa9452884f6"
      },
      "source": [
        "#\n",
        "# Save Model\n",
        "#\n",
        "model.save('/content/drive/MyDrive/app/mnist_nn.h5') # you can transfer this for deployment"
      ],
      "execution_count": null,
      "outputs": [
        {
          "output_type": "stream",
          "name": "stderr",
          "text": [
            "/usr/local/lib/python3.10/dist-packages/keras/src/engine/training.py:3103: UserWarning: You are saving your model as an HDF5 file via `model.save()`. This file format is considered legacy. We recommend using instead the native Keras format, e.g. `model.save('my_model.keras')`.\n",
            "  saving_api.save_model(\n"
          ]
        }
      ]
    },
    {
      "cell_type": "markdown",
      "metadata": {
        "id": "6n1gYFBIziPx"
      },
      "source": [
        "#Step 5 Make Prediction#"
      ]
    },
    {
      "cell_type": "code",
      "metadata": {
        "id": "imi6_9LCzkh2",
        "colab": {
          "base_uri": "https://localhost:8080/"
        },
        "outputId": "99553b5d-3c2b-4b50-9fb7-9b113a69f779"
      },
      "source": [
        "from tensorflow.keras.models import load_model\n",
        "from tensorflow.keras.preprocessing.image import load_img\n",
        "from tensorflow.keras.preprocessing.image import img_to_array\n",
        "import numpy as np\n",
        "\n",
        "#\n",
        "# Load back the Model\n",
        "#\n",
        "loaded_model = load_model('/content/drive/MyDrive/app/mnist_nn.h5') # we will use its predict method\n",
        "\n",
        "#\n",
        "# Load and Convert Image\n",
        "#\n",
        "# img_digit_one_sample.bmp can be found here:\n",
        "# https://drive.google.com/open?id=1RnqbnoRV5VWfEuWcDrtMXmB7tjZo41oK\n",
        "#\n",
        "# img_digit_four_sample.bmp can be found here:\n",
        "# https://drive.google.com/open?id=1zyNBk8zNEDpdYPy0KzxlGda5SAKXo7ds\n",
        "#\n",
        "# img_digit_eight_sample.bmp can be found here:\n",
        "# https://drive.google.com/file/d/1rfJO6wl6wDjmN7Dqu7ELr5FhGBW0Bswr\n",
        "#\n",
        "# For color, the default is color_mode='rgb'\n",
        "#\n",
        "#img = load_img(path=\"/content/drive/MyDrive/app/img_digit_one_sample.bmp\", color_mode = \"grayscale\", target_size=(28,28))\n",
        "#img = load_img(path=\"/content/drive/MyDrive/app/img_digit_four_sample.bmp\", color_mode = \"grayscale\", target_size=(28,28))\n",
        "img = load_img(path=\"/content/drive/MyDrive/app/img_digit_eight_sample.bmp\", color_mode = \"grayscale\", target_size=(28,28))\n",
        "\n",
        "#\n",
        "# Pre-processing of input image data\n",
        "#\n",
        "imgArray = img_to_array(img) #convert to numpy array\n",
        "print (imgArray.shape) # (28,28,1)\n",
        "imgInput = imgArray/255.0 # normalization\n",
        "imgInput = imgInput.reshape(1,28,28,1) # make it into an array of arrays as predict method expects this\n",
        "print (imgInput.shape)\n",
        "\n",
        "#\n",
        "# Prediction\n",
        "#\n",
        "predictions = loaded_model.predict(imgInput) # Predict method expects an input format of array of arrays\n",
        "print(predictions)\n",
        "\n",
        "for i,x in enumerate(predictions[0]):\n",
        "  print(i, \"%.4f\" % x)\n",
        "\n",
        "predicted_class=np.argmax(predictions[0])\n",
        "print(\"The predicted digit is\",predicted_class)\n"
      ],
      "execution_count": null,
      "outputs": [
        {
          "output_type": "stream",
          "name": "stdout",
          "text": [
            "(28, 28, 1)\n",
            "(1, 28, 28, 1)\n",
            "1/1 [==============================] - 0s 104ms/step\n",
            "[[2.8513687e-08 1.0487658e-12 5.1468379e-07 2.9673607e-03 9.6288800e-17\n",
            "  1.8176038e-06 9.9703014e-01 5.4681381e-14 1.3886599e-07 3.9822827e-17]]\n",
            "0 0.0000\n",
            "1 0.0000\n",
            "2 0.0000\n",
            "3 0.0030\n",
            "4 0.0000\n",
            "5 0.0000\n",
            "6 0.9970\n",
            "7 0.0000\n",
            "8 0.0000\n",
            "9 0.0000\n",
            "The predicted digit is 6\n"
          ]
        }
      ]
    }
  ]
}