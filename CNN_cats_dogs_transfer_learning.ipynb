{
  "nbformat": 4,
  "nbformat_minor": 0,
  "metadata": {
    "colab": {
      "provenance": [],
      "include_colab_link": true
    },
    "kernelspec": {
      "name": "python3",
      "display_name": "Python 3"
    },
    "accelerator": "GPU"
  },
  "cells": [
    {
      "cell_type": "markdown",
      "metadata": {
        "id": "view-in-github",
        "colab_type": "text"
      },
      "source": [
        "<a href=\"https://colab.research.google.com/github/Sathishk2/Computer-Vision/blob/main/CNN_cats_dogs_transfer_learning.ipynb\" target=\"_parent\"><img src=\"https://colab.research.google.com/assets/colab-badge.svg\" alt=\"Open In Colab\"/></a>"
      ]
    },
    {
      "cell_type": "markdown",
      "source": [
        "#**Ex: Cats and Dogs (Transfer Learning)**"
      ],
      "metadata": {
        "id": "cBxGPWCsc-Rb"
      }
    },
    {
      "cell_type": "code",
      "source": [
        "import tensorflow as tf\n",
        "print(tf.__version__)\n",
        "\n",
        "#\n",
        "# Check if we got GPU\n",
        "#\n",
        "print(tf.test.gpu_device_name()) #Returns the name of a GPU device if available"
      ],
      "metadata": {
        "colab": {
          "base_uri": "https://localhost:8080/"
        },
        "id": "fgzaj8kVsQsQ",
        "outputId": "be433dea-bbfa-4452-85dc-117b6c028537"
      },
      "execution_count": null,
      "outputs": [
        {
          "output_type": "stream",
          "name": "stdout",
          "text": [
            "2.14.0\n",
            "/device:GPU:0\n"
          ]
        }
      ]
    },
    {
      "cell_type": "code",
      "source": [
        "#\n",
        "# Mount drive to connect to Google Drive (for accessing input data file)\n",
        "#\n",
        "from google.colab import drive\n",
        "drive.mount('/content/drive')"
      ],
      "metadata": {
        "colab": {
          "base_uri": "https://localhost:8080/"
        },
        "id": "teiaV1CvsWI_",
        "outputId": "b1a3b0c4-dab7-4bc1-f762-ba914fd18f43"
      },
      "execution_count": null,
      "outputs": [
        {
          "output_type": "stream",
          "name": "stdout",
          "text": [
            "Mounted at /content/drive\n"
          ]
        }
      ]
    },
    {
      "cell_type": "markdown",
      "source": [
        "#Step 1 Prepare Data#"
      ],
      "metadata": {
        "id": "fsnj0bY-sqt0"
      }
    },
    {
      "cell_type": "code",
      "source": [
        "from tensorflow.keras.models import Sequential\n",
        "from tensorflow.keras.layers import Dense, Conv2D, Flatten, Dropout, MaxPooling2D\n",
        "from tensorflow.keras.preprocessing.image import ImageDataGenerator\n",
        "\n",
        "import os\n",
        "import numpy as np\n",
        "import matplotlib.pyplot as plt"
      ],
      "metadata": {
        "id": "OmtIsRGStRHX"
      },
      "execution_count": null,
      "outputs": []
    },
    {
      "cell_type": "code",
      "source": [
        "# (inside the zipped folder)\n",
        "# cats_and_dogs_filtered\n",
        "#          |\n",
        "#          |- train\n",
        "#          |    |- cats (1000 jpgs of cats)\n",
        "#          |    |- dogs (1000 jpgs of dogs)\n",
        "#          |\n",
        "#          |- validation\n",
        "#               |- cats (500 jpgs of cats)\n",
        "#               |- dogs (500 jpgs of dogs)\n",
        "#\n",
        "_URL = 'https://storage.googleapis.com/mledu-datasets/cats_and_dogs_filtered.zip'\n",
        "\n",
        "# get the file from _URL and extract contents out in temp folder\n",
        "path_to_zip = tf.keras.utils.get_file('cats_and_dogs.zip', origin=_URL, extract=True)\n",
        "print(path_to_zip) #the zip file downloaded to temp folder\n",
        "\n",
        "# cats_and_dogs_filtered folder zipped inside zip file\n",
        "PATH = os.path.join(os.path.dirname(path_to_zip), 'cats_and_dogs_filtered')\n",
        "print(PATH)"
      ],
      "metadata": {
        "colab": {
          "base_uri": "https://localhost:8080/"
        },
        "id": "wNm3c5o8stAP",
        "outputId": "4e163bd8-539e-48d9-c824-13f995c50075"
      },
      "execution_count": null,
      "outputs": [
        {
          "output_type": "stream",
          "name": "stdout",
          "text": [
            "Downloading data from https://storage.googleapis.com/mledu-datasets/cats_and_dogs_filtered.zip\n",
            "68606236/68606236 [==============================] - 1s 0us/step\n",
            "/root/.keras/datasets/cats_and_dogs.zip\n",
            "/root/.keras/datasets/cats_and_dogs_filtered\n"
          ]
        }
      ]
    },
    {
      "cell_type": "code",
      "source": [
        "train_dir = os.path.join(PATH, 'train') # training folder\n",
        "validation_dir = os.path.join(PATH, 'validation') # validation folder\n",
        "print(train_dir)\n",
        "print(validation_dir)"
      ],
      "metadata": {
        "colab": {
          "base_uri": "https://localhost:8080/"
        },
        "id": "5Az4sYfGvxi7",
        "outputId": "81c7350b-9a1e-428d-8e3e-8ff909de45ee"
      },
      "execution_count": null,
      "outputs": [
        {
          "output_type": "stream",
          "name": "stdout",
          "text": [
            "/root/.keras/datasets/cats_and_dogs_filtered/train\n",
            "/root/.keras/datasets/cats_and_dogs_filtered/validation\n"
          ]
        }
      ]
    },
    {
      "cell_type": "code",
      "source": [
        "train_cats_dir = os.path.join(train_dir, 'cats')  # directory with our training cat pictures\n",
        "train_dogs_dir = os.path.join(train_dir, 'dogs')  # directory with our training dog pictures\n",
        "validation_cats_dir = os.path.join(validation_dir, 'cats')  # directory with our validation cat pictures\n",
        "validation_dogs_dir = os.path.join(validation_dir, 'dogs')  # directory with our validation dog pictures"
      ],
      "metadata": {
        "id": "qtn2AiTuQscu"
      },
      "execution_count": null,
      "outputs": []
    },
    {
      "cell_type": "code",
      "source": [
        "print(train_cats_dir)\n",
        "print(train_dogs_dir)\n",
        "print(validation_cats_dir)\n",
        "print(validation_dogs_dir)"
      ],
      "metadata": {
        "colab": {
          "base_uri": "https://localhost:8080/"
        },
        "id": "--9PcxAeRjQE",
        "outputId": "7318dfd8-88ed-4974-c8fb-c881564be162"
      },
      "execution_count": null,
      "outputs": [
        {
          "output_type": "stream",
          "name": "stdout",
          "text": [
            "/root/.keras/datasets/cats_and_dogs_filtered/train/cats\n",
            "/root/.keras/datasets/cats_and_dogs_filtered/train/dogs\n",
            "/root/.keras/datasets/cats_and_dogs_filtered/validation/cats\n",
            "/root/.keras/datasets/cats_and_dogs_filtered/validation/dogs\n"
          ]
        }
      ]
    },
    {
      "cell_type": "code",
      "source": [
        "num_cats_tr = len(os.listdir(train_cats_dir))\n",
        "num_dogs_tr = len(os.listdir(train_dogs_dir))\n",
        "\n",
        "num_cats_val = len(os.listdir(validation_cats_dir))\n",
        "num_dogs_val = len(os.listdir(validation_dogs_dir))\n",
        "\n",
        "total_train = num_cats_tr + num_dogs_tr\n",
        "total_val = num_cats_val + num_dogs_val\n",
        "\n",
        "print('total training cat images:', num_cats_tr)\n",
        "print('total training dog images:', num_dogs_tr)\n",
        "\n",
        "print('total validation cat images:', num_cats_val)\n",
        "print('total validation dog images:', num_dogs_val)\n",
        "print(\"--\")\n",
        "print(\"Total training images:\", total_train)\n",
        "print(\"Total validation images:\", total_val)"
      ],
      "metadata": {
        "colab": {
          "base_uri": "https://localhost:8080/"
        },
        "id": "znVZ6TIiRm1U",
        "outputId": "d4543bef-01d5-4ae4-c7ad-314ffdf5d990"
      },
      "execution_count": null,
      "outputs": [
        {
          "output_type": "stream",
          "name": "stdout",
          "text": [
            "total training cat images: 1000\n",
            "total training dog images: 1000\n",
            "total validation cat images: 500\n",
            "total validation dog images: 500\n",
            "--\n",
            "Total training images: 2000\n",
            "Total validation images: 1000\n"
          ]
        }
      ]
    },
    {
      "cell_type": "code",
      "source": [
        "# Define some constants\n",
        "BATCH_SIZE = 100\n",
        "EPOCHS = 15\n",
        "IMG_HEIGHT = 150\n",
        "IMG_WIDTH = 150"
      ],
      "metadata": {
        "id": "cc0AEqAIR6ZQ"
      },
      "execution_count": null,
      "outputs": []
    },
    {
      "cell_type": "code",
      "source": [
        "# Create ImageDataGenerator objects with transformation parameters\n",
        "# we only add additional transformations to the training ImageDataGenerator\n",
        "\n",
        "train_image_generator = ImageDataGenerator(\n",
        "                    rescale=1.0/255.0,\n",
        "                    rotation_range=45, #randomly rotate image in degree (0 to 180)\n",
        "                    width_shift_range=0.15, # randomly shift images horizontally 15%\n",
        "                    height_shift_range=0.15, # randomly shift images vertically 15%\n",
        "                    horizontal_flip=True,\n",
        "                    zoom_range=0.5, # Randomly zoom image by up to 50%\n",
        "\t                  vertical_flip=False\n",
        "                    )\n",
        "\n",
        "validation_image_generator = ImageDataGenerator(rescale=1.0/255.0)"
      ],
      "metadata": {
        "id": "d_XX3HHXSkTL"
      },
      "execution_count": null,
      "outputs": []
    },
    {
      "cell_type": "code",
      "source": [
        "# Images are flowed from directory with specified BATCH_SIZE\n",
        "train_data_gen = train_image_generator.flow_from_directory(directory=train_dir,\n",
        "                                                           target_size=(IMG_HEIGHT, IMG_WIDTH),\n",
        "                                                           batch_size=BATCH_SIZE,\n",
        "                                                           class_mode='categorical')\n",
        "\n",
        "val_data_gen = validation_image_generator.flow_from_directory(directory=validation_dir,\n",
        "                                                              target_size=(IMG_HEIGHT, IMG_WIDTH),\n",
        "                                                              batch_size=BATCH_SIZE,\n",
        "                                                              class_mode='categorical')"
      ],
      "metadata": {
        "colab": {
          "base_uri": "https://localhost:8080/"
        },
        "id": "oyQdPONrSp-L",
        "outputId": "a6d94fd5-f3a9-4e87-f6b3-5d7644be313a"
      },
      "execution_count": null,
      "outputs": [
        {
          "output_type": "stream",
          "name": "stdout",
          "text": [
            "Found 2000 images belonging to 2 classes.\n",
            "Found 1000 images belonging to 2 classes.\n"
          ]
        }
      ]
    },
    {
      "cell_type": "code",
      "source": [
        "# cats=0, dogs=1, based on folder names in alphabetical order\n",
        "print(train_data_gen.class_indices)\n",
        "print(val_data_gen.class_indices)"
      ],
      "metadata": {
        "colab": {
          "base_uri": "https://localhost:8080/"
        },
        "id": "CP-Lx5JQuc7t",
        "outputId": "a3880df6-ef3e-4d8a-d871-5612ff496c3c"
      },
      "execution_count": null,
      "outputs": [
        {
          "output_type": "stream",
          "name": "stdout",
          "text": [
            "{'cats': 0, 'dogs': 1}\n",
            "{'cats': 0, 'dogs': 1}\n"
          ]
        }
      ]
    },
    {
      "cell_type": "markdown",
      "source": [
        "#Step 2 Build Model#"
      ],
      "metadata": {
        "id": "sdd1GrxzQbNz"
      }
    },
    {
      "cell_type": "code",
      "source": [
        "from tensorflow.keras.applications.vgg16 import VGG16\n",
        "from tensorflow.keras.layers import GlobalAveragePooling2D\n",
        "from tensorflow.keras.models import Model"
      ],
      "metadata": {
        "id": "PYsvPQQVhYwU"
      },
      "execution_count": null,
      "outputs": []
    },
    {
      "cell_type": "code",
      "source": [
        "# Define model using pre-trained VGG16 in functional mode\n",
        "base_model = VGG16(weights='imagenet', include_top=False, input_shape=(IMG_HEIGHT,IMG_WIDTH,3))\n",
        "x=base_model.output\n",
        "#x=GlobalAveragePooling2D()(x) #helps to flatten, x=Flatten()(x) should give a better result but may take longer\n",
        "x=Flatten()(x)\n",
        "x=Dense(1024,activation='relu')(x)\n",
        "x=Dense(512,activation='relu')(x)\n",
        "preds=Dense(2, activation='softmax')(x)\n",
        "\n",
        "model=Model(inputs=base_model.input, outputs=preds)"
      ],
      "metadata": {
        "id": "pijlydN1h8Uu"
      },
      "execution_count": null,
      "outputs": []
    },
    {
      "cell_type": "code",
      "source": [
        "# Freeze the base layers\n",
        "base_model.trainable = False"
      ],
      "metadata": {
        "id": "XJbLbIdalK_y"
      },
      "execution_count": null,
      "outputs": []
    },
    {
      "cell_type": "code",
      "source": [
        "for layer in model.layers:\n",
        "  print(layer.name, layer.trainable)"
      ],
      "metadata": {
        "colab": {
          "base_uri": "https://localhost:8080/"
        },
        "id": "L0PmLtv6rEfS",
        "outputId": "9c0ff6c8-377e-4909-bfb5-9cf075ca0ea9"
      },
      "execution_count": null,
      "outputs": [
        {
          "output_type": "stream",
          "name": "stdout",
          "text": [
            "input_3 False\n",
            "block1_conv1 False\n",
            "block1_conv2 False\n",
            "block1_pool False\n",
            "block2_conv1 False\n",
            "block2_conv2 False\n",
            "block2_pool False\n",
            "block3_conv1 False\n",
            "block3_conv2 False\n",
            "block3_conv3 False\n",
            "block3_pool False\n",
            "block4_conv1 False\n",
            "block4_conv2 False\n",
            "block4_conv3 False\n",
            "block4_pool False\n",
            "block5_conv1 False\n",
            "block5_conv2 False\n",
            "block5_conv3 False\n",
            "block5_pool False\n",
            "flatten_1 True\n",
            "dense_6 True\n",
            "dense_7 True\n",
            "dense_8 True\n"
          ]
        }
      ]
    },
    {
      "cell_type": "code",
      "source": [
        "#\n",
        "# Unfreezing Block 5\n",
        "# It may turn out to be worse\n",
        "# Need further investigation\n",
        "#\n",
        "for layer in base_model.layers[-4:]:\n",
        "  layer.trainable = True"
      ],
      "metadata": {
        "id": "Cnf1TT9XzD2P"
      },
      "execution_count": null,
      "outputs": []
    },
    {
      "cell_type": "code",
      "source": [
        "for layer in model.layers:\n",
        "  print(layer.name, layer.trainable)"
      ],
      "metadata": {
        "colab": {
          "base_uri": "https://localhost:8080/"
        },
        "id": "FJcAjxG_zdkM",
        "outputId": "fdcaec2f-1188-4ff9-ecd3-57c31a7e96db"
      },
      "execution_count": null,
      "outputs": [
        {
          "output_type": "stream",
          "name": "stdout",
          "text": [
            "input_3 False\n",
            "block1_conv1 False\n",
            "block1_conv2 False\n",
            "block1_pool False\n",
            "block2_conv1 False\n",
            "block2_conv2 False\n",
            "block2_pool False\n",
            "block3_conv1 False\n",
            "block3_conv2 False\n",
            "block3_conv3 False\n",
            "block3_pool False\n",
            "block4_conv1 False\n",
            "block4_conv2 False\n",
            "block4_conv3 False\n",
            "block4_pool False\n",
            "block5_conv1 False\n",
            "block5_conv2 False\n",
            "block5_conv3 False\n",
            "block5_pool False\n",
            "flatten_1 True\n",
            "dense_6 True\n",
            "dense_7 True\n",
            "dense_8 True\n"
          ]
        }
      ]
    },
    {
      "cell_type": "code",
      "metadata": {
        "id": "Er040CnfPz2p"
      },
      "source": [
        "#\n",
        "# Specify optimizer, loss function and metrics during compilation\n",
        "#\n",
        "model.compile(loss='categorical_crossentropy',\n",
        "             optimizer='adam',\n",
        "             metrics=['accuracy']) # \"accuracy\" is for evaluating model performance"
      ],
      "execution_count": null,
      "outputs": []
    },
    {
      "cell_type": "markdown",
      "source": [
        "#Step 3 & 4 Train & Evaluate Model#"
      ],
      "metadata": {
        "id": "_L1PxOWKxBdY"
      }
    },
    {
      "cell_type": "code",
      "metadata": {
        "id": "k32hy_noRLbw",
        "colab": {
          "base_uri": "https://localhost:8080/"
        },
        "outputId": "ff651b0f-eb5d-4329-cbca-c144c36effc6"
      },
      "source": [
        "#steps per epoch means number of batches used per epoch. It is\n",
        "#the number of batch iterations before a training epoch is considered finished.\n",
        "#\n",
        "#use this to calculate: steps_per_epoch = (len(train data) // batch_size)\n",
        "#                       validation_steps = (len(validate data) // batch_size)\n",
        "#\n",
        "# steps_per_epoch = 2000 samples per epoch // 100 per batch = 20 batches per epoch\n",
        "# validation_steps = 1000 samples per epoch // 100 per batch = 10 batches per epoch\n",
        "#\n",
        "#Keep in mind that the data generator is meant to loop indefinitely.\n",
        "#Since the function is intended to loop indefinitely, tf has no ability to determine when one epoch starts and a new epoch begins.\n",
        "#So, we compute the steps_per_epoch value as number of batches to be processed before counting as an epoch. Similar for validation.\n",
        "#Once tf hits this step count, it knows that it’s a new epoch (think of it as major and minor epoch)\n",
        "#\n",
        "history = model.fit(\n",
        "      train_data_gen,    #which gen to use for training\n",
        "      steps_per_epoch=20, #no of training batches per epoch\n",
        "      epochs=EPOCHS,\n",
        "      validation_data=val_data_gen, #which gen to use for testing\n",
        "      validation_steps=10) #no of validation batches per epoch"
      ],
      "execution_count": null,
      "outputs": [
        {
          "output_type": "stream",
          "name": "stdout",
          "text": [
            "Epoch 1/15\n",
            "20/20 [==============================] - 20s 927ms/step - loss: 1.4554 - accuracy: 0.5745 - val_loss: 0.4255 - val_accuracy: 0.8120\n",
            "Epoch 2/15\n",
            "20/20 [==============================] - 21s 1s/step - loss: 0.4691 - accuracy: 0.7825 - val_loss: 0.3147 - val_accuracy: 0.8620\n",
            "Epoch 3/15\n",
            "20/20 [==============================] - 18s 913ms/step - loss: 0.4130 - accuracy: 0.8065 - val_loss: 0.2809 - val_accuracy: 0.8750\n",
            "Epoch 4/15\n",
            "20/20 [==============================] - 18s 915ms/step - loss: 0.3979 - accuracy: 0.8095 - val_loss: 0.2888 - val_accuracy: 0.8740\n",
            "Epoch 5/15\n",
            "20/20 [==============================] - 21s 1s/step - loss: 0.4402 - accuracy: 0.7850 - val_loss: 0.3370 - val_accuracy: 0.8550\n",
            "Epoch 6/15\n",
            "20/20 [==============================] - 20s 1s/step - loss: 0.4266 - accuracy: 0.7990 - val_loss: 0.2881 - val_accuracy: 0.8690\n",
            "Epoch 7/15\n",
            "20/20 [==============================] - 18s 918ms/step - loss: 0.3920 - accuracy: 0.8185 - val_loss: 0.2660 - val_accuracy: 0.8810\n",
            "Epoch 8/15\n",
            "20/20 [==============================] - 18s 916ms/step - loss: 0.3547 - accuracy: 0.8410 - val_loss: 0.2538 - val_accuracy: 0.8960\n",
            "Epoch 9/15\n",
            "20/20 [==============================] - 19s 935ms/step - loss: 0.3676 - accuracy: 0.8285 - val_loss: 0.2616 - val_accuracy: 0.8880\n",
            "Epoch 10/15\n",
            "20/20 [==============================] - 21s 1s/step - loss: 0.3753 - accuracy: 0.8265 - val_loss: 0.2515 - val_accuracy: 0.8860\n",
            "Epoch 11/15\n",
            "20/20 [==============================] - 19s 963ms/step - loss: 0.3579 - accuracy: 0.8415 - val_loss: 0.2871 - val_accuracy: 0.8670\n",
            "Epoch 12/15\n",
            "20/20 [==============================] - 18s 923ms/step - loss: 0.3581 - accuracy: 0.8380 - val_loss: 0.2468 - val_accuracy: 0.8940\n",
            "Epoch 13/15\n",
            "20/20 [==============================] - 18s 915ms/step - loss: 0.3486 - accuracy: 0.8395 - val_loss: 0.2476 - val_accuracy: 0.9000\n",
            "Epoch 14/15\n",
            "20/20 [==============================] - 19s 924ms/step - loss: 0.3378 - accuracy: 0.8515 - val_loss: 0.2414 - val_accuracy: 0.8940\n",
            "Epoch 15/15\n",
            "20/20 [==============================] - 18s 873ms/step - loss: 0.3406 - accuracy: 0.8445 - val_loss: 0.2653 - val_accuracy: 0.8860\n"
          ]
        }
      ]
    },
    {
      "cell_type": "code",
      "source": [
        "#\n",
        "# Visualization of Loss and Accuracy\n",
        "#\n",
        "loss = history.history['loss']\n",
        "val_loss = history.history['val_loss']\n",
        "acc = history.history['accuracy']\n",
        "val_acc = history.history['val_accuracy']\n",
        "epoch = range(len(loss))\n",
        "\n",
        "plt.plot(epoch, loss, label='train_loss')\n",
        "plt.plot(epoch, val_loss, label='val_loss')\n",
        "plt.xlabel('Epoch')\n",
        "plt.ylabel('Loss')\n",
        "plt.legend()\n",
        "plt.show()"
      ],
      "metadata": {
        "colab": {
          "base_uri": "https://localhost:8080/",
          "height": 449
        },
        "id": "6oxOSX7QyygN",
        "outputId": "2894cdeb-cf08-4726-a4d0-9734eb04f28f"
      },
      "execution_count": null,
      "outputs": [
        {
          "output_type": "display_data",
          "data": {
            "text/plain": [
              "<Figure size 640x480 with 1 Axes>"
            ],
            "image/png": "[encoded data removed]"
          },
          "metadata": {}
        }
      ]
    },
    {
      "cell_type": "code",
      "source": [
        "plt.plot(epoch, acc, label='train_acc')\n",
        "plt.plot(epoch, val_acc, label='val_acc')\n",
        "plt.xlabel('Epoch')\n",
        "plt.ylabel('Accuracy')\n",
        "plt.legend()\n",
        "plt.show()"
      ],
      "metadata": {
        "colab": {
          "base_uri": "https://localhost:8080/",
          "height": 449
        },
        "id": "5-BIx-PMy_50",
        "outputId": "61a5254d-4777-42c4-b0cc-616477ec8d4c"
      },
      "execution_count": null,
      "outputs": [
        {
          "output_type": "display_data",
          "data": {
            "text/plain": [
              "<Figure size 640x480 with 1 Axes>"
            ],
            "image/png": "[encoded data removed]"
          },
          "metadata": {}
        }
      ]
    },
    {
      "cell_type": "code",
      "source": [
        "#\n",
        "# Save Model\n",
        "#\n",
        "model.save('/content/drive/MyDrive/app/cats_dogs_cnn_tf.h5')"
      ],
      "metadata": {
        "id": "gwR1OXoN0ajR",
        "colab": {
          "base_uri": "https://localhost:8080/"
        },
        "outputId": "6caa703f-97ac-4e15-f1f6-3504414dd206"
      },
      "execution_count": null,
      "outputs": [
        {
          "output_type": "stream",
          "name": "stderr",
          "text": [
            "/usr/local/lib/python3.10/dist-packages/keras/src/engine/training.py:3079: UserWarning: You are saving your model as an HDF5 file via `model.save()`. This file format is considered legacy. We recommend using instead the native Keras format, e.g. `model.save('my_model.keras')`.\n",
            "  saving_api.save_model(\n"
          ]
        }
      ]
    },
    {
      "cell_type": "markdown",
      "metadata": {
        "id": "hXQrHyY1oHPf"
      },
      "source": [
        "#Step 5 Make Prediction#"
      ]
    },
    {
      "cell_type": "code",
      "metadata": {
        "id": "KXFPWfw0oF3s",
        "colab": {
          "base_uri": "https://localhost:8080/"
        },
        "outputId": "be21d954-1fba-4239-bc52-e3005aa136af"
      },
      "source": [
        "#\n",
        "# Note: we didn't do any saving and loading here\n",
        "#       we use the trained model directly\n",
        "#\n",
        "from tensorflow.keras.preprocessing.image import load_img\n",
        "from tensorflow.keras.preprocessing.image import img_to_array\n",
        "\n",
        "#\n",
        "# dog images for validation stored at validation_dogs_dir\n",
        "#\n",
        "object=['cat','dog']\n",
        "\n",
        "for p in range(10):\n",
        "  img = load_img(path=validation_dogs_dir+'/dog.'+str(2000+p)+'.jpg', color_mode=\"rgb\", target_size=(150,150))\n",
        "  imgArray = img_to_array(img) #convert to numpy array\n",
        "  imgInput = imgArray.reshape(1,150,150,3)/255.0\n",
        "\n",
        "  predictions = model.predict(imgInput)\n",
        "  print(\"%s %.4f %s\" % ('dog.'+str(2000+p)+'.jpg:', predictions[0][1], object[int(predictions[0][1]>0.5)])) # cat=0, dog=1"
      ],
      "execution_count": null,
      "outputs": [
        {
          "output_type": "stream",
          "name": "stdout",
          "text": [
            "1/1 [==============================] - 1s 660ms/step\n",
            "dog.2000.jpg: 0.9943 dog\n",
            "1/1 [==============================] - 0s 22ms/step\n",
            "dog.2001.jpg: 0.9999 dog\n",
            "1/1 [==============================] - 0s 17ms/step\n",
            "dog.2002.jpg: 0.9801 dog\n",
            "1/1 [==============================] - 0s 17ms/step\n",
            "dog.2003.jpg: 0.8337 dog\n",
            "1/1 [==============================] - 0s 20ms/step\n",
            "dog.2004.jpg: 0.9999 dog\n",
            "1/1 [==============================] - 0s 20ms/step\n",
            "dog.2005.jpg: 0.8565 dog\n",
            "1/1 [==============================] - 0s 22ms/step\n",
            "dog.2006.jpg: 0.6301 dog\n",
            "1/1 [==============================] - 0s 18ms/step\n",
            "dog.2007.jpg: 0.9795 dog\n",
            "1/1 [==============================] - 0s 19ms/step\n",
            "dog.2008.jpg: 1.0000 dog\n",
            "1/1 [==============================] - 0s 20ms/step\n",
            "dog.2009.jpg: 0.0040 cat\n"
          ]
        }
      ]
    }
  ]
}